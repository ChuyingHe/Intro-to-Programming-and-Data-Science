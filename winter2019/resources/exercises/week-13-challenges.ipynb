{
 "cells": [
  {
   "cell_type": "markdown",
   "metadata": {},
   "source": [
    "# Simple Statistics in Python\n",
    "\n",
    "I'm going to show you how to run some simple statistics using Python.\n",
    "\n",
    "In general, Python is very powerful for machine learning (e.g., scikit-learn, TensorFlow, etc.), while R is designed for statistics and cutting-edge statistical tools typically show up there first. That being said, all of the basic tools of a social science researcher are avaiable in Python.\n",
    "\n",
    "In this notebook, I show you how to run some basic statistical tests and models using the [scipy stats module](https://docs.scipy.org/doc/scipy/reference/stats.html). I am assuming that you already have a working knowledge of what these statistical tests do. I am just showing you how to perform them in Python.\n",
    "\n",
    "* Note: I personally do most of my statistical modeling in R, so I may be missing some of the tools that pure Python researchers would be aware of.\n",
    "\n"
   ]
  },
  {
   "cell_type": "code",
   "execution_count": 115,
   "metadata": {},
   "outputs": [],
   "source": [
    "from scipy import stats\n",
    "import numpy as np\n",
    "import matplotlib.pyplot as plt\n",
    "import pandas as pd"
   ]
  },
  {
   "cell_type": "markdown",
   "metadata": {},
   "source": [
    "## Getting the data\n",
    "\n",
    "I'm going to just create some random data"
   ]
  },
  {
   "cell_type": "code",
   "execution_count": 117,
   "metadata": {},
   "outputs": [],
   "source": [
    "X1 = stats.norm.rvs(size = 100) # 100 random, normally distributed values\n",
    "X2 = stats.norm.rvs(size = 100)\n",
    "X3 = stats.norm.rvs(size = 100)\n",
    "group = np.random.choice(['A','B','C'], size=100)\n",
    "# Our outcome is influenced by X1, X2, and the group, plus some random noise\n",
    "Y = 1.5 * X1 - 2.3 * X2 + 3 * (group == 'A') + 1.2 * (group == 'B') + stats.norm.rvs(size = 100)\n",
    "\n",
    "# We can store these in a data frame\n",
    "df = pd.DataFrame({'X1':X1,\n",
    "                   'X2':X2,\n",
    "                   'X3': X3,\n",
    "                   'group':group,\n",
    "                   'Y':Y})"
   ]
  },
  {
   "cell_type": "markdown",
   "metadata": {},
   "source": [
    "## Univariate statistics\n",
    "\n",
    "There are lots of univariate statistics we can get - mean, median, quartiles, quantiles, etc."
   ]
  },
  {
   "cell_type": "code",
   "execution_count": null,
   "metadata": {},
   "outputs": [],
   "source": [
    "# These all use numpy. This is the mean\n",
    "np.mean(X1)"
   ]
  },
  {
   "cell_type": "code",
   "execution_count": null,
   "metadata": {},
   "outputs": [],
   "source": [
    "# And this is how you do the same thing with data in a data frame.\n",
    "# All columns are numpy arrays underneath, so this first should work for\n",
    "# any of the statistics.\n",
    "\n",
    "# Numpy way\n",
    "np.mean(df.X1)"
   ]
  },
  {
   "cell_type": "code",
   "execution_count": null,
   "metadata": {},
   "outputs": [],
   "source": [
    "# Pandas also has a number of statistics built in, which you can apply directly\n",
    "df.X1.mean()"
   ]
  },
  {
   "cell_type": "code",
   "execution_count": 122,
   "metadata": {},
   "outputs": [
    {
     "data": {
      "text/plain": [
       "X1    0.049253\n",
       "X2    0.131064\n",
       "X3   -0.157963\n",
       "Y     1.220645\n",
       "dtype: float64"
      ]
     },
     "execution_count": 122,
     "metadata": {},
     "output_type": "execute_result"
    }
   ],
   "source": [
    "# For all columns\n",
    "df.mean()"
   ]
  },
  {
   "cell_type": "code",
   "execution_count": 154,
   "metadata": {},
   "outputs": [
    {
     "data": {
      "text/html": [
       "<div>\n",
       "<style scoped>\n",
       "    .dataframe tbody tr th:only-of-type {\n",
       "        vertical-align: middle;\n",
       "    }\n",
       "\n",
       "    .dataframe tbody tr th {\n",
       "        vertical-align: top;\n",
       "    }\n",
       "\n",
       "    .dataframe thead tr th {\n",
       "        text-align: left;\n",
       "    }\n",
       "\n",
       "    .dataframe thead tr:last-of-type th {\n",
       "        text-align: right;\n",
       "    }\n",
       "</style>\n",
       "<table border=\"1\" class=\"dataframe\">\n",
       "  <thead>\n",
       "    <tr>\n",
       "      <th></th>\n",
       "      <th colspan=\"2\" halign=\"left\">X1</th>\n",
       "      <th colspan=\"2\" halign=\"left\">X2</th>\n",
       "      <th colspan=\"2\" halign=\"left\">X3</th>\n",
       "      <th colspan=\"2\" halign=\"left\">Y</th>\n",
       "    </tr>\n",
       "    <tr>\n",
       "      <th></th>\n",
       "      <th>mean</th>\n",
       "      <th>median</th>\n",
       "      <th>mean</th>\n",
       "      <th>median</th>\n",
       "      <th>mean</th>\n",
       "      <th>median</th>\n",
       "      <th>mean</th>\n",
       "      <th>median</th>\n",
       "    </tr>\n",
       "    <tr>\n",
       "      <th>group</th>\n",
       "      <th></th>\n",
       "      <th></th>\n",
       "      <th></th>\n",
       "      <th></th>\n",
       "      <th></th>\n",
       "      <th></th>\n",
       "      <th></th>\n",
       "      <th></th>\n",
       "    </tr>\n",
       "  </thead>\n",
       "  <tbody>\n",
       "    <tr>\n",
       "      <td>A</td>\n",
       "      <td>-0.195127</td>\n",
       "      <td>-0.114133</td>\n",
       "      <td>0.155421</td>\n",
       "      <td>0.321393</td>\n",
       "      <td>-0.248183</td>\n",
       "      <td>-0.256167</td>\n",
       "      <td>2.393903</td>\n",
       "      <td>2.470764</td>\n",
       "    </tr>\n",
       "    <tr>\n",
       "      <td>B</td>\n",
       "      <td>0.139591</td>\n",
       "      <td>0.134866</td>\n",
       "      <td>0.073357</td>\n",
       "      <td>0.077759</td>\n",
       "      <td>-0.150291</td>\n",
       "      <td>-0.069234</td>\n",
       "      <td>1.198653</td>\n",
       "      <td>1.540986</td>\n",
       "    </tr>\n",
       "    <tr>\n",
       "      <td>C</td>\n",
       "      <td>0.254762</td>\n",
       "      <td>0.390598</td>\n",
       "      <td>0.156240</td>\n",
       "      <td>0.143913</td>\n",
       "      <td>-0.058018</td>\n",
       "      <td>0.007463</td>\n",
       "      <td>-0.151981</td>\n",
       "      <td>-0.078526</td>\n",
       "    </tr>\n",
       "  </tbody>\n",
       "</table>\n",
       "</div>"
      ],
      "text/plain": [
       "             X1                  X2                  X3                   Y  \\\n",
       "           mean    median      mean    median      mean    median      mean   \n",
       "group                                                                         \n",
       "A     -0.195127 -0.114133  0.155421  0.321393 -0.248183 -0.256167  2.393903   \n",
       "B      0.139591  0.134866  0.073357  0.077759 -0.150291 -0.069234  1.198653   \n",
       "C      0.254762  0.390598  0.156240  0.143913 -0.058018  0.007463 -0.151981   \n",
       "\n",
       "                 \n",
       "         median  \n",
       "group            \n",
       "A      2.470764  \n",
       "B      1.540986  \n",
       "C     -0.078526  "
      ]
     },
     "execution_count": 154,
     "metadata": {},
     "output_type": "execute_result"
    }
   ],
   "source": [
    "# Pandas is obviously great for doing grouping, which you often want for this\n",
    "# type of statistics. \"aggregate\" lets you get multiple statistics\n",
    "\n",
    "df.groupby('group').aggregate([np.mean, np.median])"
   ]
  },
  {
   "cell_type": "code",
   "execution_count": 157,
   "metadata": {},
   "outputs": [
    {
     "data": {
      "text/html": [
       "<div>\n",
       "<style scoped>\n",
       "    .dataframe tbody tr th:only-of-type {\n",
       "        vertical-align: middle;\n",
       "    }\n",
       "\n",
       "    .dataframe tbody tr th {\n",
       "        vertical-align: top;\n",
       "    }\n",
       "\n",
       "    .dataframe thead th {\n",
       "        text-align: right;\n",
       "    }\n",
       "</style>\n",
       "<table border=\"1\" class=\"dataframe\">\n",
       "  <thead>\n",
       "    <tr style=\"text-align: right;\">\n",
       "      <th></th>\n",
       "      <th>X1</th>\n",
       "      <th>X2</th>\n",
       "      <th>X3</th>\n",
       "      <th>Y</th>\n",
       "    </tr>\n",
       "    <tr>\n",
       "      <th>group</th>\n",
       "      <th></th>\n",
       "      <th></th>\n",
       "      <th></th>\n",
       "      <th></th>\n",
       "    </tr>\n",
       "  </thead>\n",
       "  <tbody>\n",
       "    <tr>\n",
       "      <td>A</td>\n",
       "      <td>0.804873</td>\n",
       "      <td>1.155421</td>\n",
       "      <td>0.751817</td>\n",
       "      <td>3.393903</td>\n",
       "    </tr>\n",
       "    <tr>\n",
       "      <td>B</td>\n",
       "      <td>1.139591</td>\n",
       "      <td>1.073357</td>\n",
       "      <td>0.849709</td>\n",
       "      <td>2.198653</td>\n",
       "    </tr>\n",
       "    <tr>\n",
       "      <td>C</td>\n",
       "      <td>1.254762</td>\n",
       "      <td>1.156240</td>\n",
       "      <td>0.941982</td>\n",
       "      <td>0.848019</td>\n",
       "    </tr>\n",
       "  </tbody>\n",
       "</table>\n",
       "</div>"
      ],
      "text/plain": [
       "             X1        X2        X3         Y\n",
       "group                                        \n",
       "A      0.804873  1.155421  0.751817  3.393903\n",
       "B      1.139591  1.073357  0.849709  2.198653\n",
       "C      1.254762  1.156240  0.941982  0.848019"
      ]
     },
     "execution_count": 157,
     "metadata": {},
     "output_type": "execute_result"
    }
   ],
   "source": [
    "# You can even write your own custom functions to aggregate\n",
    "\n",
    "def mean_plus_1(array):\n",
    "    array = array + 1\n",
    "    return np.mean(array)\n",
    "\n",
    "df.groupby('group').agg(mean_plus_1)"
   ]
  },
  {
   "cell_type": "code",
   "execution_count": 61,
   "metadata": {},
   "outputs": [
    {
     "data": {
      "text/plain": [
       "-0.003303913596689736"
      ]
     },
     "execution_count": 61,
     "metadata": {},
     "output_type": "execute_result"
    }
   ],
   "source": [
    "# Back to just working with arrays - here's the numpy version of medians\n",
    "np.median(X1)"
   ]
  },
  {
   "cell_type": "code",
   "execution_count": 109,
   "metadata": {},
   "outputs": [
    {
     "data": {
      "text/plain": [
       "array([-1.65504907, -0.00330391,  1.6066461 ])"
      ]
     },
     "execution_count": 109,
     "metadata": {},
     "output_type": "execute_result"
    }
   ],
   "source": [
    "# Quantile takes an array and a list of the quantiles you want.\n",
    "# This shows the median and the quartiles\n",
    "np.quantile(X1, [.25, .5, .75])"
   ]
  },
  {
   "cell_type": "code",
   "execution_count": 110,
   "metadata": {},
   "outputs": [
    {
     "data": {
      "text/plain": [
       "DescribeResult(nobs=100, minmax=(-1.8543308977911612, 2.2338785715595577), mean=-0.013540739077387403, variance=0.827555827924176, skewness=-0.017790983895410666, kurtosis=-0.559892463011074)"
      ]
     },
     "execution_count": 110,
     "metadata": {},
     "output_type": "execute_result"
    }
   ],
   "source": [
    "# The describe function lists a number of these\n",
    "stats.describe(X1)"
   ]
  },
  {
   "cell_type": "code",
   "execution_count": 159,
   "metadata": {},
   "outputs": [
    {
     "data": {
      "text/html": [
       "<div>\n",
       "<style scoped>\n",
       "    .dataframe tbody tr th:only-of-type {\n",
       "        vertical-align: middle;\n",
       "    }\n",
       "\n",
       "    .dataframe tbody tr th {\n",
       "        vertical-align: top;\n",
       "    }\n",
       "\n",
       "    .dataframe thead th {\n",
       "        text-align: right;\n",
       "    }\n",
       "</style>\n",
       "<table border=\"1\" class=\"dataframe\">\n",
       "  <thead>\n",
       "    <tr style=\"text-align: right;\">\n",
       "      <th></th>\n",
       "      <th>X1</th>\n",
       "      <th>X2</th>\n",
       "      <th>X3</th>\n",
       "      <th>Y</th>\n",
       "    </tr>\n",
       "  </thead>\n",
       "  <tbody>\n",
       "    <tr>\n",
       "      <td>count</td>\n",
       "      <td>100.000000</td>\n",
       "      <td>100.000000</td>\n",
       "      <td>100.000000</td>\n",
       "      <td>100.000000</td>\n",
       "    </tr>\n",
       "    <tr>\n",
       "      <td>mean</td>\n",
       "      <td>0.049253</td>\n",
       "      <td>0.131064</td>\n",
       "      <td>-0.157963</td>\n",
       "      <td>1.220645</td>\n",
       "    </tr>\n",
       "    <tr>\n",
       "      <td>std</td>\n",
       "      <td>0.933003</td>\n",
       "      <td>0.899164</td>\n",
       "      <td>0.928194</td>\n",
       "      <td>2.924822</td>\n",
       "    </tr>\n",
       "    <tr>\n",
       "      <td>min</td>\n",
       "      <td>-1.988523</td>\n",
       "      <td>-1.617695</td>\n",
       "      <td>-2.576751</td>\n",
       "      <td>-4.997155</td>\n",
       "    </tr>\n",
       "    <tr>\n",
       "      <td>25%</td>\n",
       "      <td>-0.518430</td>\n",
       "      <td>-0.507311</td>\n",
       "      <td>-0.783875</td>\n",
       "      <td>-0.730585</td>\n",
       "    </tr>\n",
       "    <tr>\n",
       "      <td>50%</td>\n",
       "      <td>0.147869</td>\n",
       "      <td>0.174587</td>\n",
       "      <td>-0.108387</td>\n",
       "      <td>1.286437</td>\n",
       "    </tr>\n",
       "    <tr>\n",
       "      <td>75%</td>\n",
       "      <td>0.653752</td>\n",
       "      <td>0.701115</td>\n",
       "      <td>0.395929</td>\n",
       "      <td>3.223490</td>\n",
       "    </tr>\n",
       "    <tr>\n",
       "      <td>max</td>\n",
       "      <td>2.198207</td>\n",
       "      <td>2.555347</td>\n",
       "      <td>1.889556</td>\n",
       "      <td>8.388738</td>\n",
       "    </tr>\n",
       "  </tbody>\n",
       "</table>\n",
       "</div>"
      ],
      "text/plain": [
       "               X1          X2          X3           Y\n",
       "count  100.000000  100.000000  100.000000  100.000000\n",
       "mean     0.049253    0.131064   -0.157963    1.220645\n",
       "std      0.933003    0.899164    0.928194    2.924822\n",
       "min     -1.988523   -1.617695   -2.576751   -4.997155\n",
       "25%     -0.518430   -0.507311   -0.783875   -0.730585\n",
       "50%      0.147869    0.174587   -0.108387    1.286437\n",
       "75%      0.653752    0.701115    0.395929    3.223490\n",
       "max      2.198207    2.555347    1.889556    8.388738"
      ]
     },
     "execution_count": 159,
     "metadata": {},
     "output_type": "execute_result"
    }
   ],
   "source": [
    "# This also works for dataframes, with a different set of stats\n",
    "df.describe()"
   ]
  },
  {
   "cell_type": "markdown",
   "metadata": {},
   "source": [
    "## Bi-variate statistics\n",
    "\n",
    "### Correlations\n",
    "Scipy has both Pearson's coorelation and Spearman's rank correlation."
   ]
  },
  {
   "cell_type": "code",
   "execution_count": null,
   "metadata": {},
   "outputs": [],
   "source": [
    "# These 2 should not be correlated. \n",
    "stats.pearsonr(X1, X2)\n",
    "# the first value returned is R, the second is the p-value"
   ]
  },
  {
   "cell_type": "code",
   "execution_count": null,
   "metadata": {},
   "outputs": [],
   "source": [
    "# For pandas, you can get a correlation matrix\n",
    "df.corr()"
   ]
  },
  {
   "cell_type": "code",
   "execution_count": 168,
   "metadata": {},
   "outputs": [
    {
     "data": {
      "text/plain": [
       "(-0.12418847196390373, 0.2183067465174248)"
      ]
     },
     "execution_count": 168,
     "metadata": {},
     "output_type": "execute_result"
    }
   ],
   "source": [
    "# Or just pass the columns you are interested in\n",
    "stats.pearsonr(df.X1, df.X2)"
   ]
  },
  {
   "cell_type": "code",
   "execution_count": 65,
   "metadata": {},
   "outputs": [
    {
     "data": {
      "text/plain": [
       "SpearmanrResult(correlation=-0.01954995499549955, pvalue=0.8469119222123507)"
      ]
     },
     "execution_count": 65,
     "metadata": {},
     "output_type": "execute_result"
    }
   ],
   "source": [
    "stats.spearmanr(X1, X2)"
   ]
  },
  {
   "cell_type": "code",
   "execution_count": 113,
   "metadata": {},
   "outputs": [
    {
     "data": {
      "text/plain": [
       "(0.4680999305382044, 9.062809332329399e-07)"
      ]
     },
     "execution_count": 113,
     "metadata": {},
     "output_type": "execute_result"
    }
   ],
   "source": [
    "# These should be correlated, on the other hand\n",
    "stats.pearsonr(X1, Y)"
   ]
  },
  {
   "cell_type": "code",
   "execution_count": 67,
   "metadata": {},
   "outputs": [
    {
     "data": {
      "text/plain": [
       "SpearmanrResult(correlation=0.453981398139814, pvalue=2.095768959903901e-06)"
      ]
     },
     "execution_count": 67,
     "metadata": {},
     "output_type": "execute_result"
    }
   ],
   "source": [
    "stats.spearmanr(X1, Y)"
   ]
  },
  {
   "cell_type": "markdown",
   "metadata": {},
   "source": [
    "### T-tests"
   ]
  },
  {
   "cell_type": "code",
   "execution_count": null,
   "metadata": {},
   "outputs": [],
   "source": [
    "# T-tests test whether 2 distributions have the same mean.\n",
    "\n",
    "# X1-X3 all should have the same mean, but Y should differ"
   ]
  },
  {
   "cell_type": "code",
   "execution_count": 160,
   "metadata": {},
   "outputs": [
    {
     "data": {
      "text/plain": [
       "Ttest_indResult(statistic=-0.6313759261334511, pvalue=0.5285229634446339)"
      ]
     },
     "execution_count": 160,
     "metadata": {},
     "output_type": "execute_result"
    }
   ],
   "source": [
    "stats.ttest_ind(X1, X2)"
   ]
  },
  {
   "cell_type": "code",
   "execution_count": 114,
   "metadata": {},
   "outputs": [
    {
     "data": {
      "text/plain": [
       "Ttest_indResult(statistic=-4.3256364674048084, pvalue=2.409995406541033e-05)"
      ]
     },
     "execution_count": 114,
     "metadata": {},
     "output_type": "execute_result"
    }
   ],
   "source": [
    "stats.ttest_ind(X3, Y)"
   ]
  },
  {
   "cell_type": "markdown",
   "metadata": {},
   "source": [
    "## Multivariate statistics"
   ]
  },
  {
   "cell_type": "markdown",
   "metadata": {},
   "source": [
    "### Chi-squared test\n",
    "\n",
    "These test whether the frequency of something occurring by group is independent. So, we'll need to change Y into something that has a frequency.\n",
    "\n",
    "The following code will produce the 2 rows of a table. The first row (`large_y_counts`) is the number of large Y vaues by group. The second (`small_y_counts`) is the number of small y values per group."
   ]
  },
  {
   "cell_type": "code",
   "execution_count": null,
   "metadata": {},
   "outputs": [],
   "source": [
    "large_y_counts = []\n",
    "small_y_counts = []\n",
    "Y_med = np.median(Y)\n",
    "for g in ['A','B','C']:\n",
    "    large_y_count = 0\n",
    "    small_y_count = 0\n",
    "    # Instead of looping through the values, we loop through the index.\n",
    "    # That way we can also get the index of the `groups` variable\n",
    "    for i in range(len(Y)):\n",
    "        if group[i] == g:\n",
    "            if Y[i] > Y_med:\n",
    "                large_y_count += 1\n",
    "            else:\n",
    "                small_y_count += 1\n",
    "    large_y_counts.append(large_y_count)\n",
    "    small_y_counts.append(small_y_count)"
   ]
  },
  {
   "cell_type": "code",
   "execution_count": 197,
   "metadata": {},
   "outputs": [],
   "source": [
    "# Like many things, this could be done more quickly with pandas\n",
    "df['large_y'] = df.Y > df.Y.median()\n",
    "\n",
    "large_y_counts = df.loc[df.large_y==True,:].groupby('group').Y.count()\n",
    "small_y_counts = df.loc[df.large_y==False,:].groupby('group').Y.count()"
   ]
  },
  {
   "cell_type": "code",
   "execution_count": 198,
   "metadata": {},
   "outputs": [
    {
     "data": {
      "text/plain": [
       "(12.32280701754386, 0.0021092907851615445, 2, array([[19., 15., 16.],\n",
       "        [19., 15., 16.]]))"
      ]
     },
     "execution_count": 198,
     "metadata": {},
     "output_type": "execute_result"
    }
   ],
   "source": [
    "# Now, we call the Chi-squared test\n",
    "stats.chi2_contingency(np.array([large_y_counts, small_y_counts]))\n",
    "# This returns the Chi-square value, a p-value, degrees of freedom, and the expected counts."
   ]
  },
  {
   "cell_type": "markdown",
   "metadata": {},
   "source": [
    "### ANOVA\n",
    "\n",
    "This tests whether the means of multiple groups have the same population mean."
   ]
  },
  {
   "cell_type": "code",
   "execution_count": 85,
   "metadata": {},
   "outputs": [
    {
     "data": {
      "text/plain": [
       "F_onewayResult(statistic=0.20072298916835568, pvalue=0.8182499263023821)"
      ]
     },
     "execution_count": 85,
     "metadata": {},
     "output_type": "execute_result"
    }
   ],
   "source": [
    "# these all should\n",
    "stats.f_oneway(X1,X2,X3)"
   ]
  },
  {
   "cell_type": "code",
   "execution_count": 86,
   "metadata": {},
   "outputs": [
    {
     "data": {
      "text/plain": [
       "F_onewayResult(statistic=15.33062583228185, pvalue=1.8662451407414083e-09)"
      ]
     },
     "execution_count": 86,
     "metadata": {},
     "output_type": "execute_result"
    }
   ],
   "source": [
    "# but adding Y should change it\n",
    "\n",
    "stats.f_oneway(X1,X2,X3,Y)"
   ]
  },
  {
   "cell_type": "markdown",
   "metadata": {},
   "source": [
    "### Linear Regression"
   ]
  },
  {
   "cell_type": "code",
   "execution_count": 90,
   "metadata": {},
   "outputs": [
    {
     "data": {
      "text/plain": [
       "LinregressResult(slope=1.8108511287523748, intercept=1.552793497695232, rvalue=0.46809993053820487, pvalue=9.0628093323292e-07, stderr=0.34532177628953775)"
      ]
     },
     "execution_count": 90,
     "metadata": {},
     "output_type": "execute_result"
    }
   ],
   "source": [
    "# Simple linear regression is possible with scipy stats\n",
    "stats.linregress(X1, Y)"
   ]
  },
  {
   "cell_type": "markdown",
   "metadata": {},
   "source": [
    "### Multiple Linear Regression"
   ]
  },
  {
   "cell_type": "code",
   "execution_count": 100,
   "metadata": {},
   "outputs": [],
   "source": [
    "# but for multiple regression we need to use something else. One option is sklearn,\n",
    "# the machine learning package. Another, maybe simpler is statsmodels, which I show here:\n",
    "\n",
    "import pandas as pd\n",
    "import statsmodels.formula.api as sm"
   ]
  },
  {
   "cell_type": "code",
   "execution_count": 97,
   "metadata": {},
   "outputs": [],
   "source": [
    "df = pd.DataFrame({'X1':X1,\n",
    "                   'X2':X2,\n",
    "                   'X3': X3,\n",
    "                   'group':group,\n",
    "                   'Y':Y})"
   ]
  },
  {
   "cell_type": "code",
   "execution_count": 102,
   "metadata": {},
   "outputs": [],
   "source": [
    "result = sm.ols(formula=\"Y ~ X1 + X2 + X3 + group\", data=df).fit()"
   ]
  },
  {
   "cell_type": "code",
   "execution_count": 105,
   "metadata": {},
   "outputs": [
    {
     "data": {
      "text/html": [
       "<table class=\"simpletable\">\n",
       "<caption>OLS Regression Results</caption>\n",
       "<tr>\n",
       "  <th>Dep. Variable:</th>            <td>Y</td>        <th>  R-squared:         </th> <td>   0.924</td>\n",
       "</tr>\n",
       "<tr>\n",
       "  <th>Model:</th>                   <td>OLS</td>       <th>  Adj. R-squared:    </th> <td>   0.920</td>\n",
       "</tr>\n",
       "<tr>\n",
       "  <th>Method:</th>             <td>Least Squares</td>  <th>  F-statistic:       </th> <td>   229.3</td>\n",
       "</tr>\n",
       "<tr>\n",
       "  <th>Date:</th>             <td>Mon, 13 Apr 2020</td> <th>  Prob (F-statistic):</th> <td>4.89e-51</td>\n",
       "</tr>\n",
       "<tr>\n",
       "  <th>Time:</th>                 <td>17:04:58</td>     <th>  Log-Likelihood:    </th> <td> -138.22</td>\n",
       "</tr>\n",
       "<tr>\n",
       "  <th>No. Observations:</th>      <td>   100</td>      <th>  AIC:               </th> <td>   288.4</td>\n",
       "</tr>\n",
       "<tr>\n",
       "  <th>Df Residuals:</th>          <td>    94</td>      <th>  BIC:               </th> <td>   304.1</td>\n",
       "</tr>\n",
       "<tr>\n",
       "  <th>Df Model:</th>              <td>     5</td>      <th>                     </th>     <td> </td>   \n",
       "</tr>\n",
       "<tr>\n",
       "  <th>Covariance Type:</th>      <td>nonrobust</td>    <th>                     </th>     <td> </td>   \n",
       "</tr>\n",
       "</table>\n",
       "<table class=\"simpletable\">\n",
       "<tr>\n",
       "       <td></td>         <th>coef</th>     <th>std err</th>      <th>t</th>      <th>P>|t|</th>  <th>[0.025</th>    <th>0.975]</th>  \n",
       "</tr>\n",
       "<tr>\n",
       "  <th>Intercept</th>  <td>    3.1605</td> <td>    0.180</td> <td>   17.557</td> <td> 0.000</td> <td>    2.803</td> <td>    3.518</td>\n",
       "</tr>\n",
       "<tr>\n",
       "  <th>group[T.B]</th> <td>   -1.7978</td> <td>    0.238</td> <td>   -7.564</td> <td> 0.000</td> <td>   -2.270</td> <td>   -1.326</td>\n",
       "</tr>\n",
       "<tr>\n",
       "  <th>group[T.C]</th> <td>   -3.0180</td> <td>    0.264</td> <td>  -11.431</td> <td> 0.000</td> <td>   -3.542</td> <td>   -2.494</td>\n",
       "</tr>\n",
       "<tr>\n",
       "  <th>X1</th>         <td>    1.5869</td> <td>    0.111</td> <td>   14.293</td> <td> 0.000</td> <td>    1.366</td> <td>    1.807</td>\n",
       "</tr>\n",
       "<tr>\n",
       "  <th>X2</th>         <td>   -2.4333</td> <td>    0.092</td> <td>  -26.431</td> <td> 0.000</td> <td>   -2.616</td> <td>   -2.250</td>\n",
       "</tr>\n",
       "<tr>\n",
       "  <th>X3</th>         <td>   -0.1049</td> <td>    0.088</td> <td>   -1.196</td> <td> 0.235</td> <td>   -0.279</td> <td>    0.069</td>\n",
       "</tr>\n",
       "</table>\n",
       "<table class=\"simpletable\">\n",
       "<tr>\n",
       "  <th>Omnibus:</th>       <td> 4.760</td> <th>  Durbin-Watson:     </th> <td>   2.380</td>\n",
       "</tr>\n",
       "<tr>\n",
       "  <th>Prob(Omnibus):</th> <td> 0.093</td> <th>  Jarque-Bera (JB):  </th> <td>   4.472</td>\n",
       "</tr>\n",
       "<tr>\n",
       "  <th>Skew:</th>          <td> 0.518</td> <th>  Prob(JB):          </th> <td>   0.107</td>\n",
       "</tr>\n",
       "<tr>\n",
       "  <th>Kurtosis:</th>      <td> 3.043</td> <th>  Cond. No.          </th> <td>    4.10</td>\n",
       "</tr>\n",
       "</table><br/><br/>Warnings:<br/>[1] Standard Errors assume that the covariance matrix of the errors is correctly specified."
      ],
      "text/plain": [
       "<class 'statsmodels.iolib.summary.Summary'>\n",
       "\"\"\"\n",
       "                            OLS Regression Results                            \n",
       "==============================================================================\n",
       "Dep. Variable:                      Y   R-squared:                       0.924\n",
       "Model:                            OLS   Adj. R-squared:                  0.920\n",
       "Method:                 Least Squares   F-statistic:                     229.3\n",
       "Date:                Mon, 13 Apr 2020   Prob (F-statistic):           4.89e-51\n",
       "Time:                        17:04:58   Log-Likelihood:                -138.22\n",
       "No. Observations:                 100   AIC:                             288.4\n",
       "Df Residuals:                      94   BIC:                             304.1\n",
       "Df Model:                           5                                         \n",
       "Covariance Type:            nonrobust                                         \n",
       "==============================================================================\n",
       "                 coef    std err          t      P>|t|      [0.025      0.975]\n",
       "------------------------------------------------------------------------------\n",
       "Intercept      3.1605      0.180     17.557      0.000       2.803       3.518\n",
       "group[T.B]    -1.7978      0.238     -7.564      0.000      -2.270      -1.326\n",
       "group[T.C]    -3.0180      0.264    -11.431      0.000      -3.542      -2.494\n",
       "X1             1.5869      0.111     14.293      0.000       1.366       1.807\n",
       "X2            -2.4333      0.092    -26.431      0.000      -2.616      -2.250\n",
       "X3            -0.1049      0.088     -1.196      0.235      -0.279       0.069\n",
       "==============================================================================\n",
       "Omnibus:                        4.760   Durbin-Watson:                   2.380\n",
       "Prob(Omnibus):                  0.093   Jarque-Bera (JB):                4.472\n",
       "Skew:                           0.518   Prob(JB):                        0.107\n",
       "Kurtosis:                       3.043   Cond. No.                         4.10\n",
       "==============================================================================\n",
       "\n",
       "Warnings:\n",
       "[1] Standard Errors assume that the covariance matrix of the errors is correctly specified.\n",
       "\"\"\""
      ]
     },
     "execution_count": 105,
     "metadata": {},
     "output_type": "execute_result"
    }
   ],
   "source": [
    "result.summary()"
   ]
  },
  {
   "cell_type": "markdown",
   "metadata": {},
   "source": [
    "Note the benefit of regression - the coefficient for X1 is much closer to the true coefficient (1.5)"
   ]
  }
 ],
 "metadata": {
  "kernelspec": {
   "display_name": "Python 3",
   "language": "python",
   "name": "python3"
  },
  "language_info": {
   "codemirror_mode": {
    "name": "ipython",
    "version": 3
   },
   "file_extension": ".py",
   "mimetype": "text/x-python",
   "name": "python",
   "nbconvert_exporter": "python",
   "pygments_lexer": "ipython3",
   "version": "3.7.4"
  }
 },
 "nbformat": 4,
 "nbformat_minor": 2
}
