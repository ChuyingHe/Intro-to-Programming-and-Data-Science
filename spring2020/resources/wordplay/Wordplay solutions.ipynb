{
 "cells": [
  {
   "cell_type": "code",
   "execution_count": 2,
   "metadata": {},
   "outputs": [],
   "source": [
    "import scrabble"
   ]
  },
  {
   "cell_type": "code",
   "execution_count": 15,
   "metadata": {},
   "outputs": [
    {
     "name": "stdout",
     "output_type": "stream",
     "text": [
      "taramasalata\n",
      "beblubbered\n",
      "acciaccatura\n",
      "condiddled\n",
      "agreeablenesses\n",
      "chiffchaff\n",
      "gangshagging\n",
      "bakhshish\n",
      "dirigibilities\n",
      "hajj\n",
      "knickknack\n",
      "alcoholically\n",
      "mammectomies\n",
      "inconveniencing\n",
      "homoeomorphous\n",
      "snippersnapper\n",
      "chiquichiqui\n",
      "agroterrorism\n",
      "classlessnesses\n",
      "attaintment\n",
      "untumultuous\n",
      "overvivid\n",
      "bowwow\n",
      "coexecutrix\n",
      "antisyzygy\n",
      "bezzazz\n"
     ]
    }
   ],
   "source": [
    "for letter in 'abcdefghijklmnopqrstuvwxyz':\n",
    "    max_count = 0\n",
    "    max_word = ''\n",
    "    for word in scrabble.wordlist:\n",
    "        curr_count = 0\n",
    "        for word_letter in word:\n",
    "            if word_letter == letter:\n",
    "                curr_count += 1\n",
    "        #curr_count = word.count(letter)\n",
    "        if curr_count > max_count:\n",
    "            max_count = curr_count\n",
    "            max_word = word\n",
    "    print(max_word)"
   ]
  },
  {
   "cell_type": "code",
   "execution_count": 17,
   "metadata": {},
   "outputs": [
    {
     "name": "stdout",
     "output_type": "stream",
     "text": [
      "['taramasalata', 'taramasalatas']\n",
      "['beblubbered', 'flibbertigibbet']\n",
      "['acciaccatura', 'acciaccaturas', 'acciaccature', 'accrescence', 'accrescences', 'beccaccia', 'beccaccias', 'cachectic', 'cachectical', 'carbocyclic', 'circumcircle', 'circumcircles', 'circumjacencies', 'circumjacency', 'cocarcinogenic', 'coccic', 'concrescence', 'concrescences', 'concupiscence', 'concupiscences', 'concyclic', 'concyclically', 'contracyclical', 'countercyclical', 'cryptococcal', 'cryptococci', 'cryptococcoses', 'cryptococcosis', 'cryptococcus', 'diplococcic', 'echinococci', 'echinococcoses', 'echinococcosis', 'echinococcus', 'gonococcic', 'macrocyclic', 'meningococcic', 'micrococcal', 'micrococci', 'micrococcus', 'sacrococcygeal', 'staphylococcic', 'streptococcic']\n",
      "['condiddled', 'dadded', 'daddled', 'deadheaded', 'debudded', 'diddered', 'diddled', 'disbudded', 'disgodded', 'doddard', 'dodded', 'doddered', 'dogsledded', 'dunderheaded', 'fiddlededee', 'fiddledeedee', 'granddaddies', 'granddaddy', 'lepidodendroid', 'lepidodendroids', 'muddleheaded', 'muddleheadedly', 'skedaddled', 'underbudded', 'woodshedded']\n",
      "['agreeablenesses', 'appeteezement', 'appeteezements', 'beekeeper', 'beekeepers', 'beetleheaded', 'beseemingnesses', 'betweennesses', 'carefreenesses', 'ceaselessnesses', 'centerednesses', 'cheerlessnesses', 'cheesepresses', 'decelerometer', 'decelerometers', 'deceptivenesses', 'deepfreeze', 'deepfreezes', 'defectivenesses', 'defencelessness', 'defenselessness', 'defensivenesses', 'defervescence', 'defervescences', 'defervescencies', 'degenerateness', 'dejectednesses', 'dementednesses', 'deservednesses', 'desperatenesses', 'effectivenesses', 'effervescence', 'effervescences', 'effervescencies', 'effetenesses', 'eggheadednesses', 'electioneered', 'electioneerer', 'electioneerers', 'electivenesses', 'electrogeneses', 'enfeeblement', 'enfeeblements', 'enterocenteses', 'entrepreneuse', 'entrepreneuses', 'epeirogeneses', 'epexegeses', 'ephemeralnesses', 'etherealnesses', 'exacerbescence', 'exacerbescences', 'excessivenesses', 'execrablenesses', 'expectednesses', 'expensivenesses', 'experienceable', 'experienceless', 'extendednesses', 'extensivenesses', 'extremenesses', 'eyeleteer', 'eyeleteers', 'feeblenesses', 'fencelessnesses', 'fiddledeedee', 'freewheeled', 'freewheeler', 'freewheelers', 'genteelnesses', 'greenkeeper', 'greenkeepers', 'greenskeeper', 'greenskeepers', 'heedlessnesses', 'heterogeneities', 'heterogeneses', 'interdependence', 'leukaemogeneses', 'leukemogeneses', 'levelheadedness', 'needlessnesses', 'neglectednesses', 'nervelessnesses', 'overbejeweled', 'overdependence', 'overdependences', 'overeagernesses', 'overengineered', 'overrepresented', 'oversweetened', 'oversweetnesses', 'peaceablenesses', 'peacekeeper', 'peacekeepers', 'peacelessnesses', 'peerlessnesses', 'permeablenesses', 'perplexednesses', 'perversenesses', 'pervertednesses', 'preemergence', 'presweetened', 'preteritenesses', 'receptivenesses', 'recessivenesses', 'redeemableness', 'reemergence', 'reemergences', 'reengineered', 'reexperience', 'reexperienced', 'reexperiences', 'reflexivenesses', 'regenerateness', 'rejuvenescence', 'rejuvenescences', 'renewednesses', 'repletenesses', 'representee', 'representees', 'reservednesses', 'retentivenesses', 'reverentnesses', 'secretivenesses', 'seemelesse', 'selectivenesses', 'semievergreen', 'senselessnesses', 'serenenesses', 'severenesses', 'sleeplessnesses', 'sneezeweed', 'sneezeweeds', 'streetkeeper', 'streetkeepers', 'superexcellence', 'teleconference', 'teleconferences', 'telemetered', 'telepresence', 'telepresences', 'telestereoscope', 'temperatenesses', 'treelessnesses', 'tweedledee', 'tweedledeed', 'tweedledeeing', 'tweedledees', 'velveteened', 'venerablenesses', 'woebegonenesses']\n",
      "['chiffchaff', 'chiffchaffs', 'cuffuffle', 'cuffuffles', 'niffnaff', 'niffnaffed', 'niffnaffing', 'niffnaffs', 'riffraff', 'riffraffs', 'tufftaffeta', 'tufftaffetas', 'tufftaffeties', 'tufftaffety']\n",
      "['gangshagging']\n",
      "['bakhshish', 'bakhshished', 'bakhshishes', 'bakhshishing', 'chemolithotroph', 'chihuahua', 'chihuahuas', 'chincherinchee', 'chincherinchees', 'chondrichthyan', 'chondrichthyans', 'churchmanship', 'churchmanships', 'halachoth', 'halakhah', 'halakhahs', 'halakhoth', 'haphtarah', 'haphtarahs', 'haphtaroth', 'hasheesh', 'hasheeshes', 'hashhead', 'hashheads', 'hashish', 'hashishes', 'heathenish', 'heathenishly', 'heathenishness', 'heighth', 'heighths', 'hephthemimer', 'hephthemimeral', 'hephthemimers', 'herniorrhaphies', 'herniorrhaphy', 'hexachlorethane', 'hexachlorophane', 'hexachlorophene', 'highbush', 'highchair', 'highchairs', 'highish', 'highlight', 'highlighted', 'highlighter', 'highlighters', 'highlighting', 'highlights', 'highth', 'highths', 'highwrought', 'hitchhike', 'hitchhiked', 'hitchhiker', 'hitchhikers', 'hitchhikes', 'hitchhiking', 'hobbledehoyhood', 'hobbledehoyish', 'hotchpotch', 'hotchpotches', 'householdership', 'hypophosphate', 'hypophosphates', 'hypophosphite', 'hypophosphites', 'hypophosphoric', 'hypophosphorous', 'ichthyophagies', 'ichthyophagist', 'ichthyophagists', 'ichthyophagous', 'ichthyophagy', 'ophthalmophobia', 'ornithorhynchus', 'orthophosphate', 'orthophosphates', 'orthophosphoric', 'phenolphthalein', 'photolithograph', 'rhamphotheca', 'rhamphothecae', 'rhynchophore', 'rhynchophores', 'rhynchophorous', 'schechitah', 'schechitahs', 'shahtoosh', 'shahtooshes', 'shakuhachi', 'shakuhachis', 'sheathfish', 'sheathfishes', 'shechitah', 'shechitahs', 'shehitah', 'shehitahs', 'shophroth', 'staphylorrhaphy', 'tachyarrhythmia', 'therethrough', 'throughither', 'throughother', 'wherethrough']\n",
      "['dirigibilities', 'divisibilities', 'ignitibilities', 'immiscibilities', 'indivisibility', 'ineligibilities', 'inimitabilities', 'invincibilities', 'invisibilities']\n",
      "['hajj', 'hajjah', 'hajjahs', 'hajjes', 'hajji', 'hajjis', 'jamjar', 'jamjars', 'jejuna', 'jejunal', 'jejune', 'jejunely', 'jejuneness', 'jejunenesses', 'jejunities', 'jejunity', 'jejunostomies', 'jejunostomy', 'jejunum', 'jickajog', 'jickajogged', 'jickajogging', 'jickajogs', 'jigajig', 'jigajigged', 'jigajigging', 'jigajigs', 'jigajog', 'jigajogged', 'jigajogging', 'jigajogs', 'jigjig', 'jigjigged', 'jigjigging', 'jigjigs', 'jimjam', 'jimjams', 'jinjili', 'jinjilis', 'jipijapa', 'jipijapas', 'jiujitsu', 'jiujitsus', 'jiujutsu', 'jiujutsus', 'jojoba', 'jojobas', 'jujitsu', 'jujitsus', 'juju', 'jujube', 'jujubes', 'jujuism', 'jujuisms', 'jujuist', 'jujuists', 'jujus', 'jujutsu', 'jujutsus']\n",
      "['knickknack', 'knickknacks']\n",
      "['alcoholically', 'algologically', 'allegorically', 'allhallond', 'allhallowen', 'allhallown', 'allhollown', 'allopathically', 'allopatrically', 'allopolyploid', 'allopolyploids', 'allopolyploidy', 'allosterically', 'allotropically', 'allotypically', 'allychollies', 'allycholly', 'balletically', 'ballistically', 'bellpull', 'bellpulls', 'catallactically', 'cellulolytic', 'collaterally', 'collegially', 'collisionally', 'colloidally', 'colloquially', 'corollifloral', 'dillydallied', 'dillydallies', 'dillydally', 'dillydallying', 'dullsville', 'dullsvilles', 'elliptically', 'extracellularly', 'fallalishly', 'hallalled', 'hallalling', 'hillbillies', 'hillbilly', 'holoblastically', 'hullaballoo', 'hullaballoos', 'idyllically', 'illegally', 'illiberally', 'illogically', 'intellectually', 'intracellularly', 'jellyroll', 'jellyrolls', 'lallapalooza', 'lallapaloozas', 'lamellarly', 'lamellately', 'lamellirostral', 'legalistically', 'lexicologically', 'libellously', 'lignocellulose', 'lignocelluloses', 'lignocellulosic', 'ligulifloral', 'limnologically', 'lithologically', 'loblollies', 'loblolly', 'lollapalooza', 'lollapaloozas', 'lollingly', 'melancholically', 'mellifluently', 'mellifluously', 'metallically', 'metallurgically', 'methylcellulose', 'millefeuille', 'millefeuilles', 'millennially', 'millesimally', 'multicellular', 'multilaterally', 'multilingually', 'multimillennial', 'palynologically', 'parallactically', 'parallelled', 'parallelling', 'parallelly', 'pellmell', 'pellmells', 'phallically', 'philatelically', 'philologically', 'plasmolytically', 'pluralistically', 'polysyllabical', 'polysyllable', 'polysyllables', 'pralltriller', 'pralltrillers', 'premillennially', 'rollcollar', 'rollcollars', 'rollerball', 'rollerballs', 'shillyshallied', 'shillyshallier', 'shillyshalliers', 'shillyshallies', 'shillyshally', 'shillyshallying', 'silviculturally', 'skillfully', 'stellularly', 'syllabically', 'sylleptically', 'syllogistically', 'teleologically', 'trisyllabically', 'unfulfillable', 'unskillfully', 'valpolicella', 'valpolicellas', 'vexillological', 'villanella', 'villanellas', 'villanelle', 'villanelles', 'volleyball', 'volleyballs', 'wallyball', 'wallyballs', 'willfully']\n"
     ]
    },
    {
     "name": "stdout",
     "output_type": "stream",
     "text": [
      "['mammectomies', 'mammectomy', 'mammiform', 'mammogram', 'mammograms', 'mammonism', 'mammonisms', 'mummiform']\n",
      "['inconveniencing', 'nannoplankton', 'nannoplanktons', 'nonconnection', 'nonconnections', 'noncontingent', 'nonconventional', 'nonengineering', 'nonfunctioning', 'nonindependence', 'noninfringement', 'nonintervention', 'nonwinning']\n",
      "['homoeomorphous', 'nonhomologous', 'odontophorous', 'odontostomatous', 'protozoological', 'protozoologies', 'protozoologist', 'protozoologists', 'protozoology']\n",
      "['snippersnapper', 'snippersnappers', 'uppropped', 'uppropping', 'whippersnapper', 'whippersnappers']\n",
      "['chiquichiqui', 'chiquichiquis', 'equivoque', 'equivoques', 'qaimaqam', 'qaimaqams', 'quaquaversal', 'quaquaversally', 'quelquechose', 'quelquechoses', 'quinaquina', 'quinaquinas', 'quinquagenarian', 'quinquagesimal', 'quinquecostate', 'quinquefarious', 'quinquefoliate', 'quinquennia', 'quinquenniad', 'quinquenniads', 'quinquennial', 'quinquennially', 'quinquennials', 'quinquennium', 'quinquenniums', 'quinquepartite', 'quinquereme', 'quinqueremes', 'quinquevalence', 'quinquevalences', 'quinquevalency', 'quinquevalent', 'quinquina', 'quinquinas', 'quinquivalent']\n",
      "['agroterrorism', 'agroterrorisms', 'carryforward', 'carryforwards', 'corroborator', 'corroborators', 'corroboratory', 'counterreformer', 'counterterror', 'counterterrors', 'cyberterrorism', 'cyberterrorisms', 'cyberterrorist', 'cyberterrorists', 'extracurricular', 'ferrosoferric', 'forrarder', 'gerrymanderer', 'gerrymanderers', 'narcoterrorism', 'narcoterrorisms', 'narcoterrorist', 'narcoterrorists', 'partridgeberry', 'precurrer', 'precurrers', 'preferrer', 'preferrers', 'rearranger', 'rearrangers', 'recurvirostral', 'referrer', 'referrers', 'refrigerator', 'refrigeratories', 'refrigerators', 'refrigeratory', 'reprographer', 'reprographers', 'reredorter', 'reredorters', 'resurrectionary', 'resurrector', 'resurrectors', 'retransferred', 'retransferring', 'retroreflector', 'retroreflectors', 'reverberator', 'reverberatories', 'reverberators', 'reverberatory', 'rhyparographer', 'rhyparographers', 'riroriro', 'riroriros', 'serratirostral', 'supercarrier', 'supercarriers', 'surrenderer', 'surrenderers', 'surrenderor', 'surrenderors', 'terroriser', 'terrorisers', 'terrorizer', 'terrorizers', 'transferrer', 'transferrers', 'worcesterberry']\n",
      "['classlessnesses', 'possessednesses', 'senselessnesses', 'stresslessness', 'successlessness']\n",
      "['attaintment', 'attaintments', 'attemptability', 'attentat', 'attentats', 'attestant', 'attestants', 'attestation', 'attestations', 'attestative', 'attestator', 'attestators', 'attractant', 'attractants', 'attritted', 'attritting', 'chemoattractant', 'constitutionist', 'hatchettite', 'hatchettites', 'hottentot', 'hottentots', 'institutist', 'institutists', 'intermittent', 'intermittently', 'intertextuality', 'intromittent', 'kettlestitch', 'kettlestitches', 'lithontriptist', 'lithontriptists', 'lithotriptist', 'lithotriptists', 'lithotritist', 'lithotritists', 'motettist', 'motettists', 'outsettlement', 'outsettlements', 'outtrotted', 'outtrotting', 'photostatted', 'photostatting', 'phototypesetter', 'posttreatment', 'quattrocentist', 'quattrocentists', 'restitutionist', 'restitutionists', 'scuttlebutt', 'scuttlebutts', 'statuette', 'statuettes', 'straitwaistcoat', 'substitutivity', 'tattiest', 'tattletale', 'tattletales', 'tattooist', 'tattooists', 'teetotalist', 'teetotalists', 'teletypesetting', 'tetraptote', 'tetraptotes', 'thermostatted', 'thermostatting', 'tittivate', 'tittivated', 'tittivates', 'tittivating', 'tittivation', 'tittivations', 'tittivator', 'tittivators', 'tittlebat', 'tittlebats', 'totipotent', 'tottiest', 'transmittivity', 'trisubstituted']\n",
      "['untumultuous']\n",
      "['overvivid', 'ovoviviparities', 'ovoviviparity', 'ovoviviparous', 'ovoviviparously', 'vivisective', 'vulvovaginal', 'vulvovaginitis']\n",
      "['bowwow', 'bowwowed', 'bowwowing', 'bowwows', 'powwaw', 'powwow', 'powwowed', 'powwowing', 'powwows', 'swallowwort', 'swallowworts', 'whillywhaw', 'whillywhawed', 'whillywhawing', 'whillywhaws', 'williwaw', 'williwaws', 'willowware', 'willowwares', 'willywaw', 'willywaws', 'woodswallow', 'woodswallows']\n",
      "['coexecutrix', 'coexecutrixes', 'executrix', 'executrixes', 'exotoxic', 'exotoxin', 'exotoxins', 'extratextual', 'maxixe', 'maxixes', 'paxwax', 'paxwaxes', 'saxitoxin', 'saxitoxins', 'xanthoxyl', 'xanthoxyls', 'xerox', 'xeroxed', 'xeroxes', 'xeroxing']\n",
      "['antisyzygy', 'brachydactyly', 'hydrolytically', 'hydroxybutyrate', 'hypabyssally', 'hyperdactyly', 'hypernymy', 'hyperphysically', 'hypogyny', 'hyponymy', 'hypophysectomy', 'hypsophyllary', 'karyotypically', 'mystifyingly', 'polydactyly', 'polyembryony', 'polygyny', 'polyhydroxy', 'polyonymy', 'pyrolytically', 'symphyseotomy', 'symphysiotomy', 'syndactyly', 'synonymity', 'synonymously', 'synonymy', 'syzygetically', 'syzygy', 'xylopyrography', 'xylotypography']\n",
      "['bezzazz', 'bezzazzes', 'pazzazz', 'pazzazzes', 'pizzazz', 'pizzazzes', 'pizzazzy', 'razzamatazz', 'razzamatazzes', 'razzmatazz', 'razzmatazzes']\n"
     ]
    }
   ],
   "source": [
    "for letter in 'abcdefghijklmnopqrstuvwxyz':\n",
    "    max_count = 0\n",
    "    max_words = []\n",
    "    for word in scrabble.wordlist:\n",
    "        curr_count = word.count(letter)\n",
    "        if curr_count > max_count:\n",
    "            max_count = curr_count\n",
    "            max_words = [word]\n",
    "        elif curr_count == max_count:\n",
    "            max_words.append(word)\n",
    "    print(max_words)"
   ]
  }
 ],
 "metadata": {
  "kernelspec": {
   "display_name": "Python 3",
   "language": "python",
   "name": "python3"
  },
  "language_info": {
   "codemirror_mode": {
    "name": "ipython",
    "version": 3
   },
   "file_extension": ".py",
   "mimetype": "text/x-python",
   "name": "python",
   "nbconvert_exporter": "python",
   "pygments_lexer": "ipython3",
   "version": "3.7.4"
  }
 },
 "nbformat": 4,
 "nbformat_minor": 2
}
