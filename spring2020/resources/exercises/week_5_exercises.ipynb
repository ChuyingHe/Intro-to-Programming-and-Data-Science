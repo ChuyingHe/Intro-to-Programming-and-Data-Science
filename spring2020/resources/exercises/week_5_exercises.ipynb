{
 "cells": [
  {
   "cell_type": "markdown",
   "metadata": {},
   "source": [
    "# Intro to Jupyter Notebooks\n",
    "\n",
    "This is a notebook. They mix markdown text (like this cell) with code.\n",
    "\n",
    "This lets you explain what you are doing in context.\n",
    "\n",
    "For example, in the next cell, I'm going to just make sure that my Python kernel is working. Press `shift` + `enter` to run a cell and advance to the next one."
   ]
  },
  {
   "cell_type": "code",
   "execution_count": 2,
   "metadata": {},
   "outputs": [
    {
     "name": "stdout",
     "output_type": "stream",
     "text": [
      "Hello, world!\n"
     ]
    }
   ],
   "source": [
    "print(\"Hello, world!\")"
   ]
  },
  {
   "cell_type": "markdown",
   "metadata": {},
   "source": [
    "That should have printed out \"Hello, world!\" If that didn't work, then raise your hand - something might be broken.\n",
    "\n",
    "The one tricky thing to remember about Jupyter notebooks when compared to a .py file is that they run cells in the order that you choose to run them. For example, let's create a variable:"
   ]
  },
  {
   "cell_type": "code",
   "execution_count": 3,
   "metadata": {},
   "outputs": [],
   "source": [
    "x = 1"
   ]
  },
  {
   "cell_type": "markdown",
   "metadata": {},
   "source": [
    "Now, I can choose to run either of the following cells, in whichever order I want, as many times as I want."
   ]
  },
  {
   "cell_type": "code",
   "execution_count": null,
   "metadata": {},
   "outputs": [],
   "source": [
    "x = x * 3"
   ]
  },
  {
   "cell_type": "code",
   "execution_count": 15,
   "metadata": {},
   "outputs": [],
   "source": [
    "x = x - 1"
   ]
  },
  {
   "cell_type": "markdown",
   "metadata": {},
   "source": [
    "Depending on what I do, the result of the following cell will change."
   ]
  },
  {
   "cell_type": "code",
   "execution_count": 16,
   "metadata": {},
   "outputs": [
    {
     "name": "stdout",
     "output_type": "stream",
     "text": [
      "-9\n"
     ]
    }
   ],
   "source": [
    "print(x)"
   ]
  },
  {
   "cell_type": "markdown",
   "metadata": {},
   "source": [
    "As you can imagine, this can cause problems, so be careful!\n",
    "\n",
    "The best practice is to put cells in order and to make sure that all cells can be run, from top to bottom, and you still get the same output."
   ]
  },
  {
   "cell_type": "markdown",
   "metadata": {},
   "source": [
    "## Introduction to Dictionaries"
   ]
  },
  {
   "cell_type": "markdown",
   "metadata": {},
   "source": [
    "Dictionaries are sort of like lists, except that we access them with a key, rather than with the index. A key can be a number of different objects: a string, a number, or even a tuple (which we will talk about in a moment).\n",
    "\n",
    "Dictionaries are within \"curly braces\"-- {} -- and each key is separated by the value with a colon.\n",
    "\n",
    "The following creates a new dictionary, and then shows how to add or edit entries."
   ]
  },
  {
   "cell_type": "code",
   "execution_count": 11,
   "metadata": {},
   "outputs": [
    {
     "name": "stdout",
     "output_type": "stream",
     "text": [
      "{'Purdue': 6, 'IU': 2, 'Northwestern': 0, 'Michigan': 5}\n"
     ]
    }
   ],
   "source": [
    "basketball_wins = {'Purdue': 5,\n",
    "                   'IU': 2,\n",
    "                   'Northwestern': 0}\n",
    "\n",
    "# To add a new entry\n",
    "basketball_wins['Michigan'] = 5\n",
    "\n",
    "# The same syntax updates an existing entry\n",
    "basketball_wins['Purdue'] = 6\n",
    "\n",
    "print(basketball_wins)"
   ]
  },
  {
   "cell_type": "markdown",
   "metadata": {},
   "source": [
    "Note that when we print the dictionary, it may be in a different order than how we put items into it. While lists maintain the same order, dictionaries are \"unordered\". This is why you can't access an item in a dictionary by an index number.\n",
    "\n",
    "Rather, you access the data associated with a key by entering the name of the key."
   ]
  },
  {
   "cell_type": "code",
   "execution_count": 12,
   "metadata": {},
   "outputs": [
    {
     "data": {
      "text/plain": [
       "6"
      ]
     },
     "execution_count": 12,
     "metadata": {},
     "output_type": "execute_result"
    }
   ],
   "source": [
    "basketball_wins['Purdue']"
   ]
  },
  {
   "cell_type": "code",
   "execution_count": 14,
   "metadata": {},
   "outputs": [
    {
     "ename": "KeyError",
     "evalue": "'Wisconsin'",
     "output_type": "error",
     "traceback": [
      "\u001b[0;31m---------------------------------------------------------------------------\u001b[0m",
      "\u001b[0;31mKeyError\u001b[0m                                  Traceback (most recent call last)",
      "\u001b[0;32m<ipython-input-14-5bf6e7b86186>\u001b[0m in \u001b[0;36m<module>\u001b[0;34m\u001b[0m\n\u001b[1;32m      1\u001b[0m \u001b[0;31m# But you get an KeyError if it doesn't exist\u001b[0m\u001b[0;34m\u001b[0m\u001b[0;34m\u001b[0m\u001b[0;34m\u001b[0m\u001b[0m\n\u001b[1;32m      2\u001b[0m \u001b[0;34m\u001b[0m\u001b[0m\n\u001b[0;32m----> 3\u001b[0;31m \u001b[0mbasketball_wins\u001b[0m\u001b[0;34m[\u001b[0m\u001b[0;34m'Wisconsin'\u001b[0m\u001b[0;34m]\u001b[0m\u001b[0;34m\u001b[0m\u001b[0;34m\u001b[0m\u001b[0m\n\u001b[0m",
      "\u001b[0;31mKeyError\u001b[0m: 'Wisconsin'"
     ]
    }
   ],
   "source": [
    "# But you get an KeyError if it doesn't exist\n",
    "\n",
    "basketball_wins['Wisconsin']"
   ]
  },
  {
   "cell_type": "markdown",
   "metadata": {},
   "source": [
    "While the keys must be unique, the values can change. The following code takes in a string and counts the letters in it."
   ]
  },
  {
   "cell_type": "code",
   "execution_count": 3,
   "metadata": {},
   "outputs": [
    {
     "name": "stdout",
     "output_type": "stream",
     "text": [
      "{'i': 34, 'h': 32, 'a': 44, 'v': 8, 'e': 57, 'b': 8, 'n': 37, 'o': 29, 'c': 13, 'q': 2, 'u': 13, 't': 46, 'd': 21, 'w': 11, 'g': 9, '.': 7, 'l': 18, 'k': 7, 'r': 22, '—': 1, 'f': 6, 's': 19, 'y': 12, 'p': 8, 'm': 8, ',': 3, 'x': 1, '-': 1, ';': 1}\n"
     ]
    }
   ],
   "source": [
    "string = \"\"\"\n",
    "I have been one acquainted with the night.\n",
    "I have walked out in rain—and back in rain.\n",
    "I have outwalked the furthest city light.\n",
    "\n",
    "I have looked down the saddest city lane.\n",
    "I have passed by the watchman on his beat\n",
    "And dropped my eyes, unwilling to explain.\n",
    "\n",
    "I have stood still and stopped the sound of feet\n",
    "When far away an interrupted cry\n",
    "Came over houses from another street,\n",
    "\n",
    "But not to call me back or say good-bye;\n",
    "And further still at an unearthly height,\n",
    "One luminary clock against the sky\n",
    "\n",
    "Proclaimed the time was neither wrong nor right. \n",
    "I have been one acquainted with the night.\n",
    "\"\"\"\n",
    "string = string.lower()\n",
    "letter_dict = {}\n",
    "for letter in string:\n",
    "    if letter in ['\\n',' ']:\n",
    "        continue\n",
    "    if letter in letter_dict:\n",
    "        letter_dict[letter] = letter_dict[letter] + 1\n",
    "    else:\n",
    "        letter_dict[letter] = 1\n",
    "        \n",
    "print(letter_dict)\n"
   ]
  },
  {
   "cell_type": "markdown",
   "metadata": {},
   "source": [
    "**Excercise:** See if you can modify the code above to count how often each word appears instead."
   ]
  },
  {
   "cell_type": "code",
   "execution_count": 14,
   "metadata": {},
   "outputs": [
    {
     "data": {
      "text/plain": [
       "['I',\n",
       " 'have',\n",
       " 'been',\n",
       " 'one',\n",
       " 'acquainted',\n",
       " 'with',\n",
       " 'the',\n",
       " 'night.',\n",
       " 'I',\n",
       " 'have',\n",
       " 'walked',\n",
       " 'out',\n",
       " 'in',\n",
       " 'rain—and',\n",
       " 'back',\n",
       " 'in',\n",
       " 'rain.',\n",
       " 'I',\n",
       " 'have',\n",
       " 'outwalked',\n",
       " 'the',\n",
       " 'furthest',\n",
       " 'city',\n",
       " 'light.',\n",
       " 'I',\n",
       " 'have',\n",
       " 'looked',\n",
       " 'down',\n",
       " 'the',\n",
       " 'saddest',\n",
       " 'city',\n",
       " 'lane.',\n",
       " 'I',\n",
       " 'have',\n",
       " 'passed',\n",
       " 'by',\n",
       " 'the',\n",
       " 'watchman',\n",
       " 'on',\n",
       " 'his',\n",
       " 'beat',\n",
       " 'And',\n",
       " 'dropped',\n",
       " 'my',\n",
       " 'eyes,',\n",
       " 'unwilling',\n",
       " 'to',\n",
       " 'explain.',\n",
       " 'I',\n",
       " 'have',\n",
       " 'stood',\n",
       " 'still',\n",
       " 'and',\n",
       " 'stopped',\n",
       " 'the',\n",
       " 'sound',\n",
       " 'of',\n",
       " 'feet',\n",
       " 'When',\n",
       " 'far',\n",
       " 'away',\n",
       " 'an',\n",
       " 'interrupted',\n",
       " 'cry',\n",
       " 'Came',\n",
       " 'over',\n",
       " 'houses',\n",
       " 'from',\n",
       " 'another',\n",
       " 'street,',\n",
       " 'But',\n",
       " 'not',\n",
       " 'to',\n",
       " 'call',\n",
       " 'me',\n",
       " 'back',\n",
       " 'or',\n",
       " 'say',\n",
       " 'good-bye;',\n",
       " 'And',\n",
       " 'further',\n",
       " 'still',\n",
       " 'at',\n",
       " 'an',\n",
       " 'unearthly',\n",
       " 'height,',\n",
       " 'One',\n",
       " 'luminary',\n",
       " 'clock',\n",
       " 'against',\n",
       " 'the',\n",
       " 'sky',\n",
       " 'Proclaimed',\n",
       " 'the',\n",
       " 'time',\n",
       " 'was',\n",
       " 'neither',\n",
       " 'wrong',\n",
       " 'nor',\n",
       " 'right.',\n",
       " 'I',\n",
       " 'have',\n",
       " 'been',\n",
       " 'one',\n",
       " 'acquainted',\n",
       " 'with',\n",
       " 'the',\n",
       " 'night.']"
      ]
     },
     "execution_count": 14,
     "metadata": {},
     "output_type": "execute_result"
    }
   ],
   "source": [
    "string = \"\"\"\n",
    "I have been one acquainted with the night.\n",
    "I have walked out in rain—and back in rain.\n",
    "I have outwalked the furthest city light.\n",
    "\n",
    "I have looked down the saddest city lane.\n",
    "I have passed by the watchman on his beat\n",
    "And dropped my eyes, unwilling to explain.\n",
    "\n",
    "I have stood still and stopped the sound of feet\n",
    "When far away an interrupted cry\n",
    "Came over houses from another street,\n",
    "\n",
    "But not to call me back or say good-bye;\n",
    "And further still at an unearthly height,\n",
    "One luminary clock against the sky\n",
    "\n",
    "Proclaimed the time was neither wrong nor right. \n",
    "I have been one acquainted with the night.\n",
    "\"\"\"\n",
    "string.split()"
   ]
  },
  {
   "cell_type": "code",
   "execution_count": 12,
   "metadata": {},
   "outputs": [],
   "source": [
    "## Your code here\n"
   ]
  },
  {
   "cell_type": "markdown",
   "metadata": {},
   "source": [
    "## Tuples\n",
    "\n",
    "Tuples are very similar to lists. They are created with parentheses -- () -- rather than with square brackets. "
   ]
  },
  {
   "cell_type": "markdown",
   "metadata": {},
   "source": [
    "However, tuples are \"immutable\", which means that they cannot be changed."
   ]
  },
  {
   "cell_type": "code",
   "execution_count": 8,
   "metadata": {},
   "outputs": [],
   "source": [
    "my_tuple = (4,13,'hello')"
   ]
  },
  {
   "cell_type": "markdown",
   "metadata": {},
   "source": [
    "Like lists, items in a tuple can be accessed by indexing."
   ]
  },
  {
   "cell_type": "code",
   "execution_count": 10,
   "metadata": {},
   "outputs": [
    {
     "data": {
      "text/plain": [
       "13"
      ]
     },
     "execution_count": 10,
     "metadata": {},
     "output_type": "execute_result"
    }
   ],
   "source": [
    "my_tuple[1]"
   ]
  },
  {
   "cell_type": "markdown",
   "metadata": {},
   "source": [
    "However, tuples are \"immutable\", meaning that they can't be changed. So, things like \"append\" and \"pop\" won't work.\n",
    "\n",
    "This immutability is (for complicated reasons) an important attribute of dictionary keys, and tuples are often used in dictionaries. For example, let's say you wanted to store the population of cities in the US. You might create a dictionary like this:"
   ]
  },
  {
   "cell_type": "code",
   "execution_count": 1,
   "metadata": {},
   "outputs": [],
   "source": [
    "population_dict = {('Georgia', 'Atlanta'): 498000,\n",
    "              ('Illinois', 'Atlanta'): 1692,\n",
    "              ('Illinois', 'Chicago'): 2750000\n",
    "             }"
   ]
  },
  {
   "cell_type": "code",
   "execution_count": 3,
   "metadata": {},
   "outputs": [],
   "source": [
    "d = {'a': 1,\n",
    "    'b': 3}"
   ]
  },
  {
   "cell_type": "code",
   "execution_count": 6,
   "metadata": {},
   "outputs": [],
   "source": [
    "d_list = list(d.items())"
   ]
  },
  {
   "cell_type": "code",
   "execution_count": 8,
   "metadata": {},
   "outputs": [
    {
     "data": {
      "text/plain": [
       "('a', 1)"
      ]
     },
     "execution_count": 8,
     "metadata": {},
     "output_type": "execute_result"
    }
   ],
   "source": [
    "d_list[0]"
   ]
  },
  {
   "cell_type": "code",
   "execution_count": 10,
   "metadata": {},
   "outputs": [],
   "source": [
    "x, y = [3,4]"
   ]
  },
  {
   "cell_type": "code",
   "execution_count": 11,
   "metadata": {},
   "outputs": [
    {
     "data": {
      "text/plain": [
       "3"
      ]
     },
     "execution_count": 11,
     "metadata": {},
     "output_type": "execute_result"
    }
   ],
   "source": [
    "x"
   ]
  },
  {
   "cell_type": "markdown",
   "metadata": {},
   "source": [
    "The following code takes a csv table of city populations from https://simplemaps.com/data/us-cities and converts them into a dictionary that looks like the above.\n",
    "\n",
    "To run this code, you will need to download the file from Brightspace (or the site above) and put it into the same directory as this file."
   ]
  },
  {
   "cell_type": "code",
   "execution_count": 41,
   "metadata": {},
   "outputs": [
    {
     "name": "stdout",
     "output_type": "stream",
     "text": [
      "[(('Washington', 'South Creek'), 2500), (('Washington', 'Roslyn'), 947), (('Washington', 'Sprague'), 441), (('Washington', 'Gig Harbor'), 9507), (('Washington', 'Lake Cassidy'), 3591)]\n"
     ]
    }
   ],
   "source": [
    "import csv\n",
    "f = open('./uscities.csv', 'r') # Open the file for reading\n",
    "f_csv = csv.reader(f)\n",
    "next(f_csv) # This just skips the header row, so it isn't in our data\n",
    "population_dict = {}\n",
    "for row in f_csv:\n",
    "     # To get these numbers, I just opened the CSV file and looked at which columns had this data\n",
    "    city = row[0]\n",
    "    state = row[3]\n",
    "    population = int(float(row[10])) # A few of the populations are recorded as floats, so we have to convert them\n",
    "    if (state, city) in population_dict: # Check for the same city twice in the same state\n",
    "        print(state, city)\n",
    "    else:\n",
    "        population_dict[(state, city)] = population\n",
    "        \n",
    "# This code prints the first few items in the dictionary, to make sure it looks like it's right\n",
    "print(list(population_dict.items())[:5])"
   ]
  },
  {
   "cell_type": "markdown",
   "metadata": {},
   "source": [
    "It looks right, so let's press on.\n",
    "\n",
    "By using tuples as keys, you can do things like summarize by one or the other entries in the tuple."
   ]
  },
  {
   "cell_type": "code",
   "execution_count": 42,
   "metadata": {},
   "outputs": [
    {
     "name": "stdout",
     "output_type": "stream",
     "text": [
      "{'Washington': 10134988, 'Delaware': 557808, 'District of Columbia': 5289420, 'Wisconsin': 5936025, 'West Virginia': 1375886, 'Hawaii': 1839050, 'Florida': 30250154, 'Wyoming': 487683, 'New Hampshire': 799613, 'New Jersey': 5697038, 'New Mexico': 2102495, 'Texas': 33020438, 'Louisiana': 4894945, 'Alaska': 695791, 'North Carolina': 9203228, 'North Dakota': 727244, 'Nebraska': 1885071, 'Tennessee': 6065103, 'New York': 37847876, 'Pennsylvania': 15641201, 'Rhode Island': 1653103, 'Nevada': 4434080, 'Virginia': 8197045, 'Colorado': 7499152, 'California': 59608877, 'Alabama': 4299420, 'Arkansas': 2608972, 'Vermont': 258863, 'Illinois': 18266059, 'Georgia': 10750970, 'Indiana': 6161106, 'Iowa': 3167941, 'Massachusetts': 8972816, 'Arizona': 9581518, 'Idaho': 1632041, 'Connecticut': 4072787, 'Maine': 616831, 'Maryland': 6880970, 'Oklahoma': 3657380, 'Ohio': 13764673, 'Utah': 4854868, 'Missouri': 7463356, 'Minnesota': 7275566, 'Michigan': 10429997, 'Kansas': 2586907, 'Montana': 816367, 'Mississippi': 2076480, 'Puerto Rico': 1940742, 'South Carolina': 4530198, 'Kentucky': 3287922, 'Oregon': 5212252, 'South Dakota': 678953}\n"
     ]
    }
   ],
   "source": [
    "state_populations = {}\n",
    "for city in population_dict:\n",
    "    state = city[0] # Extract the state from the key\n",
    "    city_pop = population_dict[city] # Extract the population from the value\n",
    "    try: # If the key exists, then add the population\n",
    "        state_populations[state] += city_pop\n",
    "    except KeyError: # Otherwise set the value to the population\n",
    "        state_populations[state] = city_pop\n",
    "    \n",
    "print(state_populations)"
   ]
  },
  {
   "cell_type": "markdown",
   "metadata": {},
   "source": [
    "**Exercise:** Reuse and modify the code above so that it prints a dictionary of the population for each letter that a city starts with.\n",
    "\n",
    "E.g., {'a':4539, 'b': 489399, ...}"
   ]
  },
  {
   "cell_type": "code",
   "execution_count": 13,
   "metadata": {},
   "outputs": [],
   "source": [
    "# Your code here"
   ]
  }
 ],
 "metadata": {
  "kernelspec": {
   "display_name": "Python 3",
   "language": "python",
   "name": "python3"
  },
  "language_info": {
   "codemirror_mode": {
    "name": "ipython",
    "version": 3
   },
   "file_extension": ".py",
   "mimetype": "text/x-python",
   "name": "python",
   "nbconvert_exporter": "python",
   "pygments_lexer": "ipython3",
   "version": "3.7.4"
  }
 },
 "nbformat": 4,
 "nbformat_minor": 2
}
