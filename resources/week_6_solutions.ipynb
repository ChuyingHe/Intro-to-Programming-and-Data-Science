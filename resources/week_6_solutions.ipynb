{
 "cells": [
  {
   "cell_type": "markdown",
   "metadata": {},
   "source": [
    "# Pandas and Visualization\n",
    "\n",
    "pandas is a library that is indended to make data analysis easier.\n",
    "\n",
    "The central concept in pandas is a \"dataframe\". These dataframes are similar (in many respects) to Excel spreadsheets. They are typically 2-dimensional representations of data.\n",
    "\n",
    "The first thing that we need to do is to import pandas. By convention, we rename it to \"pd\".\n",
    "\n",
    "We're also importing another visualization library called seaborn. Again, by convention it's imported as \"sns\""
   ]
  },
  {
   "cell_type": "code",
   "execution_count": 1,
   "metadata": {},
   "outputs": [],
   "source": [
    "import pandas as pd\n",
    "import numpy as np\n",
    "import seaborn as sns"
   ]
  },
  {
   "cell_type": "markdown",
   "metadata": {},
   "source": [
    "## Getting the data\n",
    "\n",
    "For now, we are assuming that you have data from somewhere else, in a [CSV file](https://en.wikipedia.org/wiki/Comma-separated_values). For today's exercises, we're going to use data that I got from [BigQuery](https://console.cloud.google.com/bigquery), which is a tool produced by Google for querying huge datasets.\n",
    "\n",
    "The folks at [Pushshift](https://pushshift.io/) gather and publish a bunch of the data from reddit. I queried their data to get a random set of 100K comments from 2018. You can download that data [here](https://github.com/jdfoote/Intro-to-Programming-and-Data-Science/blob/master/resources/100k_random_reddit_2018.csv).\n",
    "\n",
    "First, we load it into a dataframe. Change the path to where you are storing your data."
   ]
  },
  {
   "cell_type": "code",
   "execution_count": 2,
   "metadata": {},
   "outputs": [],
   "source": [
    "reddit_df = pd.read_csv('../resources/100k_random_reddit_2018.csv')"
   ]
  },
  {
   "cell_type": "markdown",
   "metadata": {},
   "source": [
    "The \"head\" method lets us look at the first few rows of the data"
   ]
  },
  {
   "cell_type": "code",
   "execution_count": 3,
   "metadata": {},
   "outputs": [
    {
     "data": {
      "text/html": [
       "<div>\n",
       "<style scoped>\n",
       "    .dataframe tbody tr th:only-of-type {\n",
       "        vertical-align: middle;\n",
       "    }\n",
       "\n",
       "    .dataframe tbody tr th {\n",
       "        vertical-align: top;\n",
       "    }\n",
       "\n",
       "    .dataframe thead th {\n",
       "        text-align: right;\n",
       "    }\n",
       "</style>\n",
       "<table border=\"1\" class=\"dataframe\">\n",
       "  <thead>\n",
       "    <tr style=\"text-align: right;\">\n",
       "      <th></th>\n",
       "      <th>created_utc</th>\n",
       "      <th>subreddit</th>\n",
       "      <th>author</th>\n",
       "      <th>comment_length</th>\n",
       "      <th>score</th>\n",
       "    </tr>\n",
       "  </thead>\n",
       "  <tbody>\n",
       "    <tr>\n",
       "      <td>0</td>\n",
       "      <td>1514764841</td>\n",
       "      <td>Astronomy</td>\n",
       "      <td>illuminatiisnowhere</td>\n",
       "      <td>50</td>\n",
       "      <td>3</td>\n",
       "    </tr>\n",
       "    <tr>\n",
       "      <td>1</td>\n",
       "      <td>1514764972</td>\n",
       "      <td>politics</td>\n",
       "      <td>ExtracurricularSpork</td>\n",
       "      <td>31</td>\n",
       "      <td>10</td>\n",
       "    </tr>\n",
       "    <tr>\n",
       "      <td>2</td>\n",
       "      <td>1514765017</td>\n",
       "      <td>frugalmalefashion</td>\n",
       "      <td>TheBarnhouseEffect</td>\n",
       "      <td>126</td>\n",
       "      <td>5</td>\n",
       "    </tr>\n",
       "    <tr>\n",
       "      <td>3</td>\n",
       "      <td>1514765217</td>\n",
       "      <td>KansasCityChiefs</td>\n",
       "      <td>thenewguyreddit</td>\n",
       "      <td>48</td>\n",
       "      <td>5</td>\n",
       "    </tr>\n",
       "    <tr>\n",
       "      <td>4</td>\n",
       "      <td>1514765360</td>\n",
       "      <td>Aeon</td>\n",
       "      <td>ribnag</td>\n",
       "      <td>385</td>\n",
       "      <td>1</td>\n",
       "    </tr>\n",
       "  </tbody>\n",
       "</table>\n",
       "</div>"
      ],
      "text/plain": [
       "   created_utc          subreddit                author  comment_length  score\n",
       "0   1514764841          Astronomy   illuminatiisnowhere              50      3\n",
       "1   1514764972           politics  ExtracurricularSpork              31     10\n",
       "2   1514765017  frugalmalefashion    TheBarnhouseEffect             126      5\n",
       "3   1514765217   KansasCityChiefs       thenewguyreddit              48      5\n",
       "4   1514765360               Aeon                ribnag             385      1"
      ]
     },
     "execution_count": 3,
     "metadata": {},
     "output_type": "execute_result"
    }
   ],
   "source": [
    "reddit_df.head()"
   ]
  },
  {
   "cell_type": "markdown",
   "metadata": {},
   "source": [
    "As you can see, this is organized a lot like a spreadsheet or a CSV file. Each row is an observation, and each column is a measure about that observation. In this case, a row represents a comment on reddit.\n",
    "\n",
    "We are going to be talking a lot more about how to manipulate and work with this data. This document is intended to introduce a few key ideas.\n",
    "\n",
    "## Selecting data\n",
    "\n",
    "The first is selecting data - getting a subset of the data.\n",
    "\n",
    "This is a really confusing thing about pandas and takes some getting used to. There is a detailed explanation [here](https://pandas.pydata.org/pandas-docs/stable/user_guide/indexing.html) but I'm going to try to give a gentler introduction here.\n",
    "\n",
    "The main thing that trips people up is remembering that dataframes have an \"index\". By default, this is a number that refers to each row in the dataframe. If you look at our dataframe, you will see that on the far left is an unnamed column of numbers starting at 0. This is the index.\n",
    "\n",
    "It is assigned in the order that the rows were in the CSV file. However, it can change if we reorder things.\n",
    "\n",
    "For example, this code will sort the dataframe by comment length. Notice how the index numbers are now out of order."
   ]
  },
  {
   "cell_type": "code",
   "execution_count": 6,
   "metadata": {},
   "outputs": [
    {
     "data": {
      "text/html": [
       "<div>\n",
       "<style scoped>\n",
       "    .dataframe tbody tr th:only-of-type {\n",
       "        vertical-align: middle;\n",
       "    }\n",
       "\n",
       "    .dataframe tbody tr th {\n",
       "        vertical-align: top;\n",
       "    }\n",
       "\n",
       "    .dataframe thead th {\n",
       "        text-align: right;\n",
       "    }\n",
       "</style>\n",
       "<table border=\"1\" class=\"dataframe\">\n",
       "  <thead>\n",
       "    <tr style=\"text-align: right;\">\n",
       "      <th></th>\n",
       "      <th>created_utc</th>\n",
       "      <th>subreddit</th>\n",
       "      <th>author</th>\n",
       "      <th>comment_length</th>\n",
       "      <th>score</th>\n",
       "    </tr>\n",
       "  </thead>\n",
       "  <tbody>\n",
       "    <tr>\n",
       "      <td>21207</td>\n",
       "      <td>1522288057</td>\n",
       "      <td>LoveNikki</td>\n",
       "      <td>queerestqueen</td>\n",
       "      <td>10045</td>\n",
       "      <td>6</td>\n",
       "    </tr>\n",
       "    <tr>\n",
       "      <td>52329</td>\n",
       "      <td>1532344433</td>\n",
       "      <td>Music</td>\n",
       "      <td>DJ_Spam</td>\n",
       "      <td>9726</td>\n",
       "      <td>1</td>\n",
       "    </tr>\n",
       "    <tr>\n",
       "      <td>78315</td>\n",
       "      <td>1540314439</td>\n",
       "      <td>NewsBrasil</td>\n",
       "      <td>newsbrasilbot</td>\n",
       "      <td>9720</td>\n",
       "      <td>1</td>\n",
       "    </tr>\n",
       "    <tr>\n",
       "      <td>61600</td>\n",
       "      <td>1535240874</td>\n",
       "      <td>NFLstream4kHD</td>\n",
       "      <td>Illustrious_Play</td>\n",
       "      <td>9577</td>\n",
       "      <td>1</td>\n",
       "    </tr>\n",
       "    <tr>\n",
       "      <td>71908</td>\n",
       "      <td>1538405283</td>\n",
       "      <td>Music</td>\n",
       "      <td>DJ_Spam</td>\n",
       "      <td>9418</td>\n",
       "      <td>2</td>\n",
       "    </tr>\n",
       "  </tbody>\n",
       "</table>\n",
       "</div>"
      ],
      "text/plain": [
       "       created_utc      subreddit            author  comment_length  score\n",
       "21207   1522288057      LoveNikki     queerestqueen           10045      6\n",
       "52329   1532344433          Music           DJ_Spam            9726      1\n",
       "78315   1540314439     NewsBrasil     newsbrasilbot            9720      1\n",
       "61600   1535240874  NFLstream4kHD  Illustrious_Play            9577      1\n",
       "71908   1538405283          Music           DJ_Spam            9418      2"
      ]
     },
     "execution_count": 6,
     "metadata": {},
     "output_type": "execute_result"
    }
   ],
   "source": [
    "df_by_length = reddit_df.sort_values('comment_length', ascending=False)\n",
    "df_by_length.head()"
   ]
  },
  {
   "cell_type": "markdown",
   "metadata": {},
   "source": [
    "We can use this \"out of order\" version of the data fram to show the difference between the two main ways of selecting data: `iloc` and `loc`.\n",
    "\n",
    "`iloc` selects data like a list index, based on the location in the current dataframe. The syntax is just like selecting elements from two lists the row list and the column list. If we use slice notation it looks like this:\n",
    "\n",
    "`dataframe_name.iloc[starting_row:ending_row,staring_column:ending_column]`\n",
    "\n",
    "You can also select a list of rows or columns. Below, I pass a list of columns to select."
   ]
  },
  {
   "cell_type": "code",
   "execution_count": 8,
   "metadata": {},
   "outputs": [
    {
     "data": {
      "text/html": [
       "<div>\n",
       "<style scoped>\n",
       "    .dataframe tbody tr th:only-of-type {\n",
       "        vertical-align: middle;\n",
       "    }\n",
       "\n",
       "    .dataframe tbody tr th {\n",
       "        vertical-align: top;\n",
       "    }\n",
       "\n",
       "    .dataframe thead th {\n",
       "        text-align: right;\n",
       "    }\n",
       "</style>\n",
       "<table border=\"1\" class=\"dataframe\">\n",
       "  <thead>\n",
       "    <tr style=\"text-align: right;\">\n",
       "      <th></th>\n",
       "      <th>subreddit</th>\n",
       "      <th>comment_length</th>\n",
       "      <th>score</th>\n",
       "    </tr>\n",
       "  </thead>\n",
       "  <tbody>\n",
       "    <tr>\n",
       "      <td>21207</td>\n",
       "      <td>LoveNikki</td>\n",
       "      <td>10045</td>\n",
       "      <td>6</td>\n",
       "    </tr>\n",
       "    <tr>\n",
       "      <td>52329</td>\n",
       "      <td>Music</td>\n",
       "      <td>9726</td>\n",
       "      <td>1</td>\n",
       "    </tr>\n",
       "    <tr>\n",
       "      <td>78315</td>\n",
       "      <td>NewsBrasil</td>\n",
       "      <td>9720</td>\n",
       "      <td>1</td>\n",
       "    </tr>\n",
       "    <tr>\n",
       "      <td>61600</td>\n",
       "      <td>NFLstream4kHD</td>\n",
       "      <td>9577</td>\n",
       "      <td>1</td>\n",
       "    </tr>\n",
       "    <tr>\n",
       "      <td>71908</td>\n",
       "      <td>Music</td>\n",
       "      <td>9418</td>\n",
       "      <td>2</td>\n",
       "    </tr>\n",
       "    <tr>\n",
       "      <td>33033</td>\n",
       "      <td>FortNiteBR</td>\n",
       "      <td>9345</td>\n",
       "      <td>8</td>\n",
       "    </tr>\n",
       "    <tr>\n",
       "      <td>91701</td>\n",
       "      <td>conspiracy</td>\n",
       "      <td>9187</td>\n",
       "      <td>1</td>\n",
       "    </tr>\n",
       "    <tr>\n",
       "      <td>13795</td>\n",
       "      <td>The_Mueller</td>\n",
       "      <td>9134</td>\n",
       "      <td>18</td>\n",
       "    </tr>\n",
       "    <tr>\n",
       "      <td>98385</td>\n",
       "      <td>kol</td>\n",
       "      <td>9100</td>\n",
       "      <td>5</td>\n",
       "    </tr>\n",
       "    <tr>\n",
       "      <td>44483</td>\n",
       "      <td>copypasta</td>\n",
       "      <td>8969</td>\n",
       "      <td>1</td>\n",
       "    </tr>\n",
       "    <tr>\n",
       "      <td>95387</td>\n",
       "      <td>HPHogwartsMystery</td>\n",
       "      <td>8152</td>\n",
       "      <td>5</td>\n",
       "    </tr>\n",
       "    <tr>\n",
       "      <td>24350</td>\n",
       "      <td>walmart</td>\n",
       "      <td>7656</td>\n",
       "      <td>3</td>\n",
       "    </tr>\n",
       "    <tr>\n",
       "      <td>31514</td>\n",
       "      <td>whowouldwin</td>\n",
       "      <td>7615</td>\n",
       "      <td>1</td>\n",
       "    </tr>\n",
       "    <tr>\n",
       "      <td>96389</td>\n",
       "      <td>DestructiveReaders</td>\n",
       "      <td>7532</td>\n",
       "      <td>1</td>\n",
       "    </tr>\n",
       "    <tr>\n",
       "      <td>74431</td>\n",
       "      <td>AskHistorians</td>\n",
       "      <td>7377</td>\n",
       "      <td>9</td>\n",
       "    </tr>\n",
       "  </tbody>\n",
       "</table>\n",
       "</div>"
      ],
      "text/plain": [
       "                subreddit  comment_length  score\n",
       "21207           LoveNikki           10045      6\n",
       "52329               Music            9726      1\n",
       "78315          NewsBrasil            9720      1\n",
       "61600       NFLstream4kHD            9577      1\n",
       "71908               Music            9418      2\n",
       "33033          FortNiteBR            9345      8\n",
       "91701          conspiracy            9187      1\n",
       "13795         The_Mueller            9134     18\n",
       "98385                 kol            9100      5\n",
       "44483           copypasta            8969      1\n",
       "95387   HPHogwartsMystery            8152      5\n",
       "24350             walmart            7656      3\n",
       "31514         whowouldwin            7615      1\n",
       "96389  DestructiveReaders            7532      1\n",
       "74431       AskHistorians            7377      9"
      ]
     },
     "execution_count": 8,
     "metadata": {},
     "output_type": "execute_result"
    }
   ],
   "source": [
    "# This code gets the first 14 rows and columns 1, 3, and 4\n",
    "df_by_length.iloc[0:15,[1,3,4]]"
   ]
  },
  {
   "cell_type": "markdown",
   "metadata": {},
   "source": [
    "The `loc` syntax, on the other hand, selects based on labels. It selects rows based on index labels and columns based on column names. When something is sorted, this can have unintended consequences. For example, we might think that this would just select the rows with an index from 0 to 3, but it selects everything in between them, as currently sorted. Notice at the bottom of the output, it says that the length is 1,494!"
   ]
  },
  {
   "cell_type": "code",
   "execution_count": 11,
   "metadata": {},
   "outputs": [
    {
     "data": {
      "text/plain": [
       "0        50\n",
       "4910     50\n",
       "46574    50\n",
       "46678    50\n",
       "56224    50\n",
       "         ..\n",
       "61453    48\n",
       "62063    48\n",
       "25059    48\n",
       "955      48\n",
       "3        48\n",
       "Name: comment_length, Length: 1494, dtype: int64"
      ]
     },
     "execution_count": 11,
     "metadata": {},
     "output_type": "execute_result"
    }
   ],
   "source": [
    "df_by_length.loc[0:3, 'comment_length']"
   ]
  },
  {
   "cell_type": "markdown",
   "metadata": {},
   "source": [
    "## Boolean indexing\n",
    "\n",
    "Instead, if we wanted to get the first 15 rows, we'd need to do something like this, which uses \"boolean indexing\" to filter to only the rows where the index is less than or equal to 15."
   ]
  },
  {
   "cell_type": "code",
   "execution_count": 13,
   "metadata": {},
   "outputs": [
    {
     "data": {
      "text/html": [
       "<div>\n",
       "<style scoped>\n",
       "    .dataframe tbody tr th:only-of-type {\n",
       "        vertical-align: middle;\n",
       "    }\n",
       "\n",
       "    .dataframe tbody tr th {\n",
       "        vertical-align: top;\n",
       "    }\n",
       "\n",
       "    .dataframe thead th {\n",
       "        text-align: right;\n",
       "    }\n",
       "</style>\n",
       "<table border=\"1\" class=\"dataframe\">\n",
       "  <thead>\n",
       "    <tr style=\"text-align: right;\">\n",
       "      <th></th>\n",
       "      <th>comment_length</th>\n",
       "      <th>score</th>\n",
       "    </tr>\n",
       "  </thead>\n",
       "  <tbody>\n",
       "    <tr>\n",
       "      <td>13</td>\n",
       "      <td>1189</td>\n",
       "      <td>3</td>\n",
       "    </tr>\n",
       "    <tr>\n",
       "      <td>14</td>\n",
       "      <td>198</td>\n",
       "      <td>2</td>\n",
       "    </tr>\n",
       "    <tr>\n",
       "      <td>15</td>\n",
       "      <td>168</td>\n",
       "      <td>1</td>\n",
       "    </tr>\n",
       "    <tr>\n",
       "      <td>12</td>\n",
       "      <td>101</td>\n",
       "      <td>0</td>\n",
       "    </tr>\n",
       "  </tbody>\n",
       "</table>\n",
       "</div>"
      ],
      "text/plain": [
       "    comment_length  score\n",
       "13            1189      3\n",
       "14             198      2\n",
       "15             168      1\n",
       "12             101      0"
      ]
     },
     "execution_count": 13,
     "metadata": {},
     "output_type": "execute_result"
    }
   ],
   "source": [
    "df_by_length.loc[(df_by_length.index >= 12) & (df_by_length.index <= 15),\"comment_length\":]"
   ]
  },
  {
   "cell_type": "markdown",
   "metadata": {},
   "source": [
    "### Exercise\n",
    "\n",
    "Sorth the data frame by score and select the rows with the 10th to 20th highest scores.\n"
   ]
  },
  {
   "cell_type": "code",
   "execution_count": 9,
   "metadata": {},
   "outputs": [],
   "source": [
    "## Your code here"
   ]
  },
  {
   "cell_type": "markdown",
   "metadata": {},
   "source": [
    "Now, how would you select just the `subreddit` and `comment_length` columns for the rows you selected above?"
   ]
  },
  {
   "cell_type": "code",
   "execution_count": 10,
   "metadata": {},
   "outputs": [],
   "source": [
    "## Your code here"
   ]
  },
  {
   "cell_type": "markdown",
   "metadata": {},
   "source": [
    "There are also a few other ways to select parts of a dataframe. One that's useful is dot notation - as long as your column names don't have spaces, you can do something like:"
   ]
  },
  {
   "cell_type": "code",
   "execution_count": 11,
   "metadata": {},
   "outputs": [
    {
     "data": {
      "text/plain": [
       "21207    10045\n",
       "52329     9726\n",
       "78315     9720\n",
       "61600     9577\n",
       "71908     9418\n",
       "         ...  \n",
       "79848        1\n",
       "54527        1\n",
       "84270        1\n",
       "99714        0\n",
       "79494        0\n",
       "Name: comment_length, Length: 99910, dtype: int64"
      ]
     },
     "execution_count": 11,
     "metadata": {},
     "output_type": "execute_result"
    }
   ],
   "source": [
    "df_by_length.comment_length"
   ]
  },
  {
   "cell_type": "markdown",
   "metadata": {},
   "source": [
    "## Grouping and aggregating\n",
    "\n",
    "Pandas is also great for grouping and aggregating data.\n",
    "\n",
    "We're going to talk a lot more about analyzing data but here's a quick introduciton to some great built in functions like max, sum, and mean"
   ]
  },
  {
   "cell_type": "code",
   "execution_count": 12,
   "metadata": {},
   "outputs": [
    {
     "data": {
      "text/plain": [
       "comment_length    162.317035\n",
       "score               8.736553\n",
       "dtype: float64"
      ]
     },
     "execution_count": 12,
     "metadata": {},
     "output_type": "execute_result"
    }
   ],
   "source": [
    "# Get the mean score and comment length\n",
    "\n",
    "df_by_length.loc[:,\"comment_length\":\"score\"].mean()"
   ]
  },
  {
   "cell_type": "markdown",
   "metadata": {},
   "source": [
    "We also might want to create subreddit-level or person-level measures. To do this, we'll want to \"group\" the data.\n",
    "\n",
    "The groupby function will create a \"grouped\" dataframe, where aggregations apply to the group rather than the whole dataframe.\n",
    "\n",
    "For example, this will tell use the average comment score by subreddit:"
   ]
  },
  {
   "cell_type": "code",
   "execution_count": 15,
   "metadata": {},
   "outputs": [
    {
     "data": {
      "text/plain": [
       "subreddit\n",
       "happyendings            -56.0\n",
       "u_washingtonpost        -24.5\n",
       "deepthroat              -20.0\n",
       "wwiipics                -13.5\n",
       "Bundesliga              -13.0\n",
       "                        ...  \n",
       "shittydarksouls         119.0\n",
       "TalesFromTheCustomer    167.5\n",
       "LearnUselessTalents     217.0\n",
       "HobbyDrama              236.0\n",
       "Dogberg                 455.0\n",
       "Name: score, Length: 10198, dtype: float64"
      ]
     },
     "execution_count": 15,
     "metadata": {},
     "output_type": "execute_result"
    }
   ],
   "source": [
    "# Note that I'm using the original dataframe but either one would work\n",
    "\n",
    "# Groups by subreddit, then gets the score column\n",
    "# Then gets the mean of that column, then sorts it by the value of the column\n",
    "reddit_df.groupby('subreddit').score.median().sort_values() "
   ]
  },
  {
   "cell_type": "markdown",
   "metadata": {},
   "source": [
    "As another example, this will get the number of comments per person:"
   ]
  },
  {
   "cell_type": "code",
   "execution_count": 14,
   "metadata": {},
   "outputs": [
    {
     "data": {
      "text/plain": [
       "author\n",
       "---------_---------_       1\n",
       "dihahs1                    1\n",
       "digswonderlust             1\n",
       "digiternity                1\n",
       "digitalruse                1\n",
       "                        ... \n",
       "transcribersofreddit      41\n",
       "transcribot               52\n",
       "MemeInvestor_bot          76\n",
       "AutoModerator            953\n",
       "[deleted]               7913\n",
       "Length: 84941, dtype: int64"
      ]
     },
     "execution_count": 14,
     "metadata": {},
     "output_type": "execute_result"
    }
   ],
   "source": [
    "reddit_df.groupby('author').size().sort_values()"
   ]
  },
  {
   "cell_type": "markdown",
   "metadata": {},
   "source": [
    "### Exercise\n",
    "\n",
    "Find the average (mean) comment length for each subreddit and sort by comment length"
   ]
  },
  {
   "cell_type": "code",
   "execution_count": 15,
   "metadata": {},
   "outputs": [],
   "source": [
    "## Your code here"
   ]
  },
  {
   "cell_type": "markdown",
   "metadata": {},
   "source": [
    "We can talk more about this in class, but this creates a user-based dataframe with data for the number of subreddits, number of comments, and average score for each user."
   ]
  },
  {
   "cell_type": "code",
   "execution_count": 16,
   "metadata": {},
   "outputs": [],
   "source": [
    "grouped_df = reddit_df.groupby('author')\n",
    "\n",
    "subreddit_count = grouped_df.subreddit.nunique()\n",
    "comments_count = grouped_df.size()\n",
    "comments_mean = grouped_df.score.mean()\n",
    "\n",
    "\n",
    "person_df = pd.DataFrame({'subreddit_count': subreddit_count,\n",
    "                          'comments_count': comments_count,\n",
    "                          'comments_mean': comments_mean})"
   ]
  },
  {
   "cell_type": "code",
   "execution_count": 17,
   "metadata": {},
   "outputs": [
    {
     "data": {
      "text/html": [
       "<div>\n",
       "<style scoped>\n",
       "    .dataframe tbody tr th:only-of-type {\n",
       "        vertical-align: middle;\n",
       "    }\n",
       "\n",
       "    .dataframe tbody tr th {\n",
       "        vertical-align: top;\n",
       "    }\n",
       "\n",
       "    .dataframe thead th {\n",
       "        text-align: right;\n",
       "    }\n",
       "</style>\n",
       "<table border=\"1\" class=\"dataframe\">\n",
       "  <thead>\n",
       "    <tr style=\"text-align: right;\">\n",
       "      <th></th>\n",
       "      <th>subreddit_count</th>\n",
       "      <th>comments_count</th>\n",
       "      <th>comments_mean</th>\n",
       "    </tr>\n",
       "    <tr>\n",
       "      <th>author</th>\n",
       "      <th></th>\n",
       "      <th></th>\n",
       "      <th></th>\n",
       "    </tr>\n",
       "  </thead>\n",
       "  <tbody>\n",
       "    <tr>\n",
       "      <td>---------_---------_</td>\n",
       "      <td>1</td>\n",
       "      <td>1</td>\n",
       "      <td>1.0</td>\n",
       "    </tr>\n",
       "    <tr>\n",
       "      <td>--------__--_---</td>\n",
       "      <td>1</td>\n",
       "      <td>1</td>\n",
       "      <td>1.0</td>\n",
       "    </tr>\n",
       "    <tr>\n",
       "      <td>-----_------_---</td>\n",
       "      <td>1</td>\n",
       "      <td>1</td>\n",
       "      <td>1.0</td>\n",
       "    </tr>\n",
       "    <tr>\n",
       "      <td>-----o____</td>\n",
       "      <td>1</td>\n",
       "      <td>1</td>\n",
       "      <td>7.0</td>\n",
       "    </tr>\n",
       "    <tr>\n",
       "      <td>----Prometheus----</td>\n",
       "      <td>1</td>\n",
       "      <td>1</td>\n",
       "      <td>2.0</td>\n",
       "    </tr>\n",
       "  </tbody>\n",
       "</table>\n",
       "</div>"
      ],
      "text/plain": [
       "                      subreddit_count  comments_count  comments_mean\n",
       "author                                                              \n",
       "---------_---------_                1               1            1.0\n",
       "--------__--_---                    1               1            1.0\n",
       "-----_------_---                    1               1            1.0\n",
       "-----o____                          1               1            7.0\n",
       "----Prometheus----                  1               1            2.0"
      ]
     },
     "execution_count": 17,
     "metadata": {},
     "output_type": "execute_result"
    }
   ],
   "source": [
    "person_df.head()"
   ]
  },
  {
   "cell_type": "markdown",
   "metadata": {},
   "source": [
    "# Visualizations\n",
    "\n",
    "Python has a powerful (and complicated) plotting library called matplotlib. If you want to do more complicated plots, I highly recommend learning how to use it. For now, I'm going to introduce the visualizations that are part of pandas, and later introduce some which are part of Seaborn. Both of these are based on matplotlib but make it easier and simpler to use.\n",
    "\n",
    "I'm introducing a few basic visualizations here. You should [read and reference this page](https://pandas.pydata.org/pandas-docs/stable/user_guide/visualization.html#pie-plot) to learn about a bunch more options.\n",
    "\n",
    "### Scatterplots\n",
    "\n",
    "I think it would be interesting to know if there's a relationship between the length of comments and the score. This plot shows the scatterplot of that relationship."
   ]
  },
  {
   "cell_type": "code",
   "execution_count": 18,
   "metadata": {},
   "outputs": [
    {
     "data": {
      "text/plain": [
       "<matplotlib.axes._subplots.AxesSubplot at 0x7fc56b64c490>"
      ]
     },
     "execution_count": 18,
     "metadata": {},
     "output_type": "execute_result"
    },
    {
     "data": {
      "image/png": "[encoded data removed]",
      "text/plain": [
       "<Figure size 432x288 with 1 Axes>"
      ]
     },
     "metadata": {
      "needs_background": "light"
     },
     "output_type": "display_data"
    }
   ],
   "source": [
    "reddit_df.plot.scatter(x = 'comment_length', y = 'score')"
   ]
  },
  {
   "cell_type": "markdown",
   "metadata": {},
   "source": [
    "Both of these measures are really skewed, so let's try plotting them on log scales instead."
   ]
  },
  {
   "cell_type": "code",
   "execution_count": 17,
   "metadata": {},
   "outputs": [],
   "source": [
    "reddit_df['comment_logged'] = np.log(reddit_df.comment_length)\n",
    "# Scores can be negative, so we add the minimum (plus one) to make sure they are positive\n",
    "# And then log transform\n",
    "reddit_df['score_logged'] = np.log(reddit_df.score + abs(reddit_df.score.min()) + 2)"
   ]
  },
  {
   "cell_type": "code",
   "execution_count": 18,
   "metadata": {},
   "outputs": [
    {
     "data": {
      "text/plain": [
       "<matplotlib.axes._subplots.AxesSubplot at 0x7f0c82873510>"
      ]
     },
     "execution_count": 18,
     "metadata": {},
     "output_type": "execute_result"
    },
    {
     "data": {
      "image/png": "[encoded data removed]",
      "text/plain": [
       "<Figure size 432x288 with 1 Axes>"
      ]
     },
     "metadata": {
      "needs_background": "light"
     },
     "output_type": "display_data"
    }
   ],
   "source": [
    "reddit_df.plot.scatter(x = 'comment_logged', y = 'score_logged')"
   ]
  },
  {
   "cell_type": "markdown",
   "metadata": {},
   "source": [
    "Not much of a relationship there.\n",
    "\n",
    "### Exercise\n",
    "\n",
    "Plot the number of comments and average score. Are frequent posters more likely to share comments that are well-received?\n",
    "\n",
    "*Hint*: You will want to use a dataframe that groups the data by person"
   ]
  },
  {
   "cell_type": "code",
   "execution_count": 21,
   "metadata": {},
   "outputs": [],
   "source": [
    "## Your code here"
   ]
  },
  {
   "cell_type": "markdown",
   "metadata": {},
   "source": [
    "## Time Series\n",
    "\n",
    "The last thing I want to show is how to do time series (because they are confusing!)\n",
    "\n",
    "They key thing to remember is that the plots assume that time is the index of the data frame. So, the first thing we need to do is to convert it to the index.\n",
    "\n",
    "`reddit_df.index` is where the index is stored, so the following code takes the `created_utc` column--which is the [Unix time](https://en.wikipedia.org/wiki/Unix_time) that each comment was posted--and converts it to a \"DateTime\", which is a way of representing a date and time in Python. It then stores the datetime in the index."
   ]
  },
  {
   "cell_type": "code",
   "execution_count": 20,
   "metadata": {},
   "outputs": [
    {
     "data": {
      "text/html": [
       "<div>\n",
       "<style scoped>\n",
       "    .dataframe tbody tr th:only-of-type {\n",
       "        vertical-align: middle;\n",
       "    }\n",
       "\n",
       "    .dataframe tbody tr th {\n",
       "        vertical-align: top;\n",
       "    }\n",
       "\n",
       "    .dataframe thead th {\n",
       "        text-align: right;\n",
       "    }\n",
       "</style>\n",
       "<table border=\"1\" class=\"dataframe\">\n",
       "  <thead>\n",
       "    <tr style=\"text-align: right;\">\n",
       "      <th></th>\n",
       "      <th>created_utc</th>\n",
       "      <th>subreddit</th>\n",
       "      <th>author</th>\n",
       "      <th>comment_length</th>\n",
       "      <th>score</th>\n",
       "      <th>comment_logged</th>\n",
       "      <th>score_logged</th>\n",
       "    </tr>\n",
       "    <tr>\n",
       "      <th>created_utc</th>\n",
       "      <th></th>\n",
       "      <th></th>\n",
       "      <th></th>\n",
       "      <th></th>\n",
       "      <th></th>\n",
       "      <th></th>\n",
       "      <th></th>\n",
       "    </tr>\n",
       "  </thead>\n",
       "  <tbody>\n",
       "    <tr>\n",
       "      <td>2018-01-01 00:00:41+00:00</td>\n",
       "      <td>1514764841</td>\n",
       "      <td>Astronomy</td>\n",
       "      <td>illuminatiisnowhere</td>\n",
       "      <td>50</td>\n",
       "      <td>3</td>\n",
       "      <td>3.912023</td>\n",
       "      <td>5.955837</td>\n",
       "    </tr>\n",
       "    <tr>\n",
       "      <td>2018-01-01 00:02:52+00:00</td>\n",
       "      <td>1514764972</td>\n",
       "      <td>politics</td>\n",
       "      <td>ExtracurricularSpork</td>\n",
       "      <td>31</td>\n",
       "      <td>10</td>\n",
       "      <td>3.433987</td>\n",
       "      <td>5.973810</td>\n",
       "    </tr>\n",
       "    <tr>\n",
       "      <td>2018-01-01 00:03:37+00:00</td>\n",
       "      <td>1514765017</td>\n",
       "      <td>frugalmalefashion</td>\n",
       "      <td>TheBarnhouseEffect</td>\n",
       "      <td>126</td>\n",
       "      <td>5</td>\n",
       "      <td>4.836282</td>\n",
       "      <td>5.961005</td>\n",
       "    </tr>\n",
       "    <tr>\n",
       "      <td>2018-01-01 00:06:57+00:00</td>\n",
       "      <td>1514765217</td>\n",
       "      <td>KansasCityChiefs</td>\n",
       "      <td>thenewguyreddit</td>\n",
       "      <td>48</td>\n",
       "      <td>5</td>\n",
       "      <td>3.871201</td>\n",
       "      <td>5.961005</td>\n",
       "    </tr>\n",
       "    <tr>\n",
       "      <td>2018-01-01 00:09:20+00:00</td>\n",
       "      <td>1514765360</td>\n",
       "      <td>Aeon</td>\n",
       "      <td>ribnag</td>\n",
       "      <td>385</td>\n",
       "      <td>1</td>\n",
       "      <td>5.953243</td>\n",
       "      <td>5.950643</td>\n",
       "    </tr>\n",
       "  </tbody>\n",
       "</table>\n",
       "</div>"
      ],
      "text/plain": [
       "                           created_utc          subreddit  \\\n",
       "created_utc                                                 \n",
       "2018-01-01 00:00:41+00:00   1514764841          Astronomy   \n",
       "2018-01-01 00:02:52+00:00   1514764972           politics   \n",
       "2018-01-01 00:03:37+00:00   1514765017  frugalmalefashion   \n",
       "2018-01-01 00:06:57+00:00   1514765217   KansasCityChiefs   \n",
       "2018-01-01 00:09:20+00:00   1514765360               Aeon   \n",
       "\n",
       "                                         author  comment_length  score  \\\n",
       "created_utc                                                              \n",
       "2018-01-01 00:00:41+00:00   illuminatiisnowhere              50      3   \n",
       "2018-01-01 00:02:52+00:00  ExtracurricularSpork              31     10   \n",
       "2018-01-01 00:03:37+00:00    TheBarnhouseEffect             126      5   \n",
       "2018-01-01 00:06:57+00:00       thenewguyreddit              48      5   \n",
       "2018-01-01 00:09:20+00:00                ribnag             385      1   \n",
       "\n",
       "                           comment_logged  score_logged  \n",
       "created_utc                                              \n",
       "2018-01-01 00:00:41+00:00        3.912023      5.955837  \n",
       "2018-01-01 00:02:52+00:00        3.433987      5.973810  \n",
       "2018-01-01 00:03:37+00:00        4.836282      5.961005  \n",
       "2018-01-01 00:06:57+00:00        3.871201      5.961005  \n",
       "2018-01-01 00:09:20+00:00        5.953243      5.950643  "
      ]
     },
     "execution_count": 20,
     "metadata": {},
     "output_type": "execute_result"
    }
   ],
   "source": [
    "reddit_df.index = pd.to_datetime(reddit_df.created_utc, unit='s', utc=True)\n",
    "reddit_df.head()"
   ]
  },
  {
   "cell_type": "markdown",
   "metadata": {},
   "source": [
    "This is a bit silly, but to display the number of comments over time, we need to sum up the number of comments, so we need to have a column in our dataframe that represents the number of comments at each time period. In some data frames, this makes sense - for example, you might have a count of the number of tweets per minute. In our case, each row just represents one comment, so we make a new column call `num_comments` which is just set to `1`."
   ]
  },
  {
   "cell_type": "code",
   "execution_count": 21,
   "metadata": {},
   "outputs": [],
   "source": [
    "reddit_df['num_comments'] = 1"
   ]
  },
  {
   "cell_type": "markdown",
   "metadata": {},
   "source": [
    "In order to make a time series, we have to combine the data. The `resample` function does this. Below, we combine it by hour to see daily trends."
   ]
  },
  {
   "cell_type": "code",
   "execution_count": 25,
   "metadata": {},
   "outputs": [],
   "source": [
    "hourly_comments = reddit_df.resample('H').num_comments.sum()"
   ]
  },
  {
   "cell_type": "code",
   "execution_count": 26,
   "metadata": {},
   "outputs": [
    {
     "data": {
      "text/plain": [
       "<matplotlib.axes._subplots.AxesSubplot at 0x7f0c81afbb10>"
      ]
     },
     "execution_count": 26,
     "metadata": {},
     "output_type": "execute_result"
    },
    {
     "data": {
      "image/png": "[encoded data removed]",
      "text/plain": [
       "<Figure size 432x288 with 1 Axes>"
      ]
     },
     "metadata": {
      "needs_background": "light"
     },
     "output_type": "display_data"
    }
   ],
   "source": [
    "hourly_comments.plot()"
   ]
  },
  {
   "cell_type": "markdown",
   "metadata": {},
   "source": [
    "This is too messy, so let's zoom in on just a few weeks, using boolean indexing"
   ]
  },
  {
   "cell_type": "code",
   "execution_count": 24,
   "metadata": {},
   "outputs": [
    {
     "data": {
      "text/plain": [
       "<matplotlib.axes._subplots.AxesSubplot at 0x7f0c81b0da50>"
      ]
     },
     "execution_count": 24,
     "metadata": {},
     "output_type": "execute_result"
    },
    {
     "data": {
      "image/png": "[encoded data removed]",
      "text/plain": [
       "<Figure size 432x288 with 1 Axes>"
      ]
     },
     "metadata": {
      "needs_background": "light"
     },
     "output_type": "display_data"
    }
   ],
   "source": [
    "hourly_comments.loc[hourly_comments.index < '2018-01-18'].plot()"
   ]
  },
  {
   "cell_type": "markdown",
   "metadata": {},
   "source": [
    "### Exercise\n",
    "\n",
    "Plot the number of comments per month over the year."
   ]
  },
  {
   "cell_type": "code",
   "execution_count": 26,
   "metadata": {},
   "outputs": [],
   "source": [
    "# Your code here"
   ]
  },
  {
   "cell_type": "markdown",
   "metadata": {},
   "source": [
    "Finally, if we wanted to summarize by hour, we could group the posting time by hour. Below, we see that about 8:00 UTC (which is about 3:00 AM Eastern) corresponds to the lowest activity time."
   ]
  },
  {
   "cell_type": "code",
   "execution_count": 75,
   "metadata": {},
   "outputs": [
    {
     "data": {
      "text/plain": [
       "<matplotlib.axes._subplots.AxesSubplot at 0x7fc54152fb10>"
      ]
     },
     "execution_count": 75,
     "metadata": {},
     "output_type": "execute_result"
    },
    {
     "data": {
      "image/png": "[encoded data removed]",
      "text/plain": [
       "<Figure size 432x288 with 1 Axes>"
      ]
     },
     "metadata": {
      "needs_background": "light"
     },
     "output_type": "display_data"
    }
   ],
   "source": [
    "reddit_df.groupby(reddit_df.index.hour).num_comments.sum().plot()"
   ]
  },
  {
   "cell_type": "markdown",
   "metadata": {},
   "source": [
    "### Exercise\n",
    "\n",
    "See if you can figure out how to change the above plot so that instead of showing one overall line for comments per hour, it shows a line for each day of the week (e.g., a line for comments per hour on Mondays, another for Tuesdays, etc.)"
   ]
  },
  {
   "cell_type": "code",
   "execution_count": 91,
   "metadata": {},
   "outputs": [
    {
     "data": {
      "image/png": "[encoded data removed]",
      "text/plain": [
       "<Figure size 432x288 with 1 Axes>"
      ]
     },
     "metadata": {
      "needs_background": "light"
     },
     "output_type": "display_data"
    }
   ],
   "source": [
    "for day in range(7):\n",
    "    temp_df = reddit_df.loc[reddit_df.index.dayofweek == day,:]\n",
    "    temp_df.groupby(temp_df.index.hour).num_comments.sum().plot()\n",
    "    "
   ]
  },
  {
   "cell_type": "code",
   "execution_count": 92,
   "metadata": {},
   "outputs": [
    {
     "data": {
      "image/png": "[encoded data removed]",
      "text/plain": [
       "<Figure size 432x288 with 1 Axes>"
      ]
     },
     "metadata": {
      "needs_background": "light"
     },
     "output_type": "display_data"
    }
   ],
   "source": [
    "import matplotlib.pyplot as plt\n",
    "\n",
    "day_names = ['Monday', 'Tuesday', 'Wednesday', 'Thursday', 'Friday', 'Saturday', 'Sunday']\n",
    "\n",
    "fig, ax = plt.subplots()\n",
    "for day in range(7):\n",
    "    temp_df = reddit_df.loc[reddit_df.index.dayofweek == day,:]\n",
    "    ax.plot(temp_df.groupby(temp_df.index.hour).num_comments.sum(), label = day_names[day])\n",
    "leg = ax.legend();"
   ]
  }
 ],
 "metadata": {
  "kernelspec": {
   "display_name": "Python 3",
   "language": "python",
   "name": "python3"
  },
  "language_info": {
   "codemirror_mode": {
    "name": "ipython",
    "version": 3
   },
   "file_extension": ".py",
   "mimetype": "text/x-python",
   "name": "python",
   "nbconvert_exporter": "python",
   "pygments_lexer": "ipython3",
   "version": "3.7.4"
  }
 },
 "nbformat": 4,
 "nbformat_minor": 2
}
