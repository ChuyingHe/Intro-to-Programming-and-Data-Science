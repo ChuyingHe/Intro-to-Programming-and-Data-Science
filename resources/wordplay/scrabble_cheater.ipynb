{
 "cells": [
  {
   "cell_type": "code",
   "execution_count": 5,
   "metadata": {},
   "outputs": [],
   "source": [
    "import scrabble\n",
    "\n",
    "def get_words(letters):\n",
    "    rack = list(letters.lower())\n",
    "    valid_words = []\n",
    "\n",
    "    for word in scrabble.wordlist:\n",
    "        # Make a copy of the rack for every new word, so we can manipulate it\n",
    "        # without compromising the original rack.\n",
    "        available_letters = rack[:]\n",
    "\n",
    "        valid = True\n",
    "        for letter in word.lower():\n",
    "            if letter not in available_letters:\n",
    "                valid = False\n",
    "                break\n",
    "            available_letters.remove(letter)\n",
    "\n",
    "        if valid:\n",
    "            # Calculate the Scrabble score.\n",
    "            score = 0\n",
    "            for letter in word:\n",
    "                score = score + scrabble.scores[letter]\n",
    "            valid_words.append((score, word))\n",
    "\n",
    "    for play in sorted(valid_words, reverse = True):\n",
    "        print(\"%d %s\" % (play[0], play[1]))"
   ]
  },
  {
   "cell_type": "code",
   "execution_count": 7,
   "metadata": {},
   "outputs": [
    {
     "name": "stdout",
     "output_type": "stream",
     "text": [
      "7 foot\n",
      "6 tef\n",
      "6 oof\n",
      "6 oft\n",
      "6 foe\n",
      "6 fet\n",
      "6 eft\n",
      "5 of\n",
      "5 fe\n",
      "5 ef\n",
      "3 too\n",
      "3 toe\n",
      "3 oot\n",
      "2 to\n",
      "2 te\n",
      "2 oo\n",
      "2 oe\n",
      "2 et\n"
     ]
    }
   ],
   "source": [
    "get_words('foote')"
   ]
  }
 ],
 "metadata": {
  "kernelspec": {
   "display_name": "Python 3",
   "language": "python",
   "name": "python3"
  },
  "language_info": {
   "codemirror_mode": {
    "name": "ipython",
    "version": 3
   },
   "file_extension": ".py",
   "mimetype": "text/x-python",
   "name": "python",
   "nbconvert_exporter": "python",
   "pygments_lexer": "ipython3",
   "version": "3.7.4"
  }
 },
 "nbformat": 4,
 "nbformat_minor": 2
}
